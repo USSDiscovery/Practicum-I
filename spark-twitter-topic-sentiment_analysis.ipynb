{
 "cells": [
  {
   "cell_type": "code",
   "execution_count": 1,
   "metadata": {},
   "outputs": [
    {
     "name": "stdout",
     "output_type": "stream",
     "text": [
      "[nltk_data] Downloading package stopwords to\n",
      "[nltk_data]     /home/vagrant/nltk_data...\n",
      "[nltk_data]   Package stopwords is already up-to-date!\n"
     ]
    }
   ],
   "source": [
    "# Import needed libraries\n",
    "\n",
    "import findspark\n",
    "findspark.init('/usr/hdp/2.6.5.0-292/spark2')\n",
    "\n",
    "# Create a Spark Context which will be used for distributed data processing\n",
    "\n",
    "import pyspark\n",
    "sc = pyspark.SparkContext(appName=\"Twitter Topic Sentiment\")\n",
    "\n",
    "import string\n",
    "\n",
    "import re as re\n",
    "\n",
    "import nltk\n",
    "\n",
    "import time\n",
    "\n",
    "from pyspark.sql import SQLContext\n",
    "\n",
    "from pyspark.sql.types import *\n",
    "\n",
    "from pyspark.sql.functions import monotonically_increasing_id\n",
    "\n",
    "from pyspark.mllib.util import MLUtils\n",
    "\n",
    "from pyspark.ml.feature import RegexTokenizer, Tokenizer, StopWordsRemover, CountVectorizer, CountVectorizerModel, StopWordsRemover\n",
    "\n",
    "from pyspark.mllib.clustering import LDA, LDAModel\n",
    "\n",
    "nltk.download('stopwords')\n",
    "\n",
    "from nltk.corpus import stopwords\n",
    "\n",
    "from pyspark.mllib.linalg import Vector as oldVector, Vectors as oldVectors\n",
    "\n",
    "from pyspark.ml.linalg import Vector as newVector, Vectors as newVectors\n",
    "\n",
    "from pyspark.ml.feature import IDF\n",
    "\n",
    "import numpy as np\n",
    "\n",
    "import matplotlib.pyplot as plt\n",
    "\n",
    "import pyspark.sql.functions as func"
   ]
  },
  {
   "cell_type": "code",
   "execution_count": 2,
   "metadata": {},
   "outputs": [],
   "source": [
    "# Create an SQL Context which will be used for sql like distriburted data processing\n",
    "\n",
    "# As I get more familiar with what technology to use where I will be switching between using pyspard RDDs,\n",
    "\n",
    "# pyspark dataframes, and pandas dataframes\n",
    "\n",
    "sqlContext = SQLContext(sc)"
   ]
  },
  {
   "cell_type": "code",
   "execution_count": 3,
   "metadata": {},
   "outputs": [],
   "source": [
    "# Hadoop is the filesystem being used. This is a three node virtual cluster\n",
    "\n",
    "# Read in data from Hadoop\n",
    "\n",
    "ITData = sc.textFile(\"hdfs:////user/vagrant/practicum/input\")"
   ]
  },
  {
   "cell_type": "code",
   "execution_count": 4,
   "metadata": {
    "scrolled": true
   },
   "outputs": [
    {
     "data": {
      "text/plain": [
       "[u'timetext,tweetid,tweetsource,tweettruncated,tweettext,tweetuserscreenname,tweetuserid,tweetuserlocation,tweetuserdescription,tweetuserfollowerscount,tweetuserstatusescount,tweetusertimezone,tweetusergioenabled,tweetuserlang,tweetcoordinatescoordinates,tweetplacecountry,tweetplacecountrycode,tweetplacefullname,tweetplacename,tweetplacetype',\n",
       " u'20180606021849,1004185815147163648,a hrefhttptwittercomdownloadandroid relnofollowTwitter for Androida,False,AgeroNews data science teams presentation at SparkAISummit today httpstco7F2IAUvN4o,chyuck,139348324,Stoneham  MA,Software Engineer Manchester United FC and FC Lokomotiv Moscow fan Interests soccer  programming  foosball  cross country running  chess  melodic death metal,57,1413,,True,en,,,,,,',\n",
       " u'20180606021850,1004185819119259648,a hrefhttptwittercomdownloadiphone relnofollowTwitter for iPhonea,False,RT IAFsite When one door closes  another opens  The IAF is planning to improve its equipment  replacing old aircraft and systems  while,iBdGilmour,887623959688171520,Israel,MAGA  realDonaldTrump,169,10089,,False,en,,,,,,',\n",
       " u'20180606021851,1004185820125908992,a hrefhttptwittercomdownloadiphone relnofollowTwitter for iPhonea,False,RT KremlinTrolls BREAKING Facebook has given at least four Chinese companies access to user data One has been flagged by US intellige,TheDubberman,574784811,Boston  MA,Believe nothing you hear and only half of what you see,345,46476,,False,en,,,,,,',\n",
       " u'20180606021851,1004185821719613440,a hrefhttptwittercom relnofollowTwitter Web Clienta,True,So I already didnt graduate with honors they didnt say my name at the graduation dinner  I was one of VERY FEW at the dinner whose name didnt get read so after my Java professor gave us a lecture about how grades dont matter I SUPER dont care about errors in the HW,crescentlesl,199831004,,I post whatwouldisay botgenerated statuses here instead of on Facebook Also subtweets Fewer subtweets now that actual people read my twitter,20,1744,,False,en,,,,,,']"
      ]
     },
     "execution_count": 4,
     "metadata": {},
     "output_type": "execute_result"
    }
   ],
   "source": [
    "# Output sample of data\n",
    "\n",
    "ITData.take(5)"
   ]
  },
  {
   "cell_type": "code",
   "execution_count": 5,
   "metadata": {},
   "outputs": [
    {
     "data": {
      "text/plain": [
       "104783"
      ]
     },
     "execution_count": 5,
     "metadata": {},
     "output_type": "execute_result"
    }
   ],
   "source": [
    "# Count number of records loaded to pyspark RDD\n",
    "\n",
    "ITData.count()"
   ]
  },
  {
   "cell_type": "code",
   "execution_count": 6,
   "metadata": {},
   "outputs": [
    {
     "data": {
      "text/plain": [
       "6"
      ]
     },
     "execution_count": 6,
     "metadata": {},
     "output_type": "execute_result"
    }
   ],
   "source": [
    "# By default, data is partitioned based on the data size\n",
    "\n",
    "# Check the number of partitions created\n",
    "\n",
    "ITData.getNumPartitions()"
   ]
  },
  {
   "cell_type": "code",
   "execution_count": 7,
   "metadata": {},
   "outputs": [
    {
     "data": {
      "text/plain": [
       "u'timetext,tweetid,tweetsource,tweettruncated,tweettext,tweetuserscreenname,tweetuserid,tweetuserlocation,tweetuserdescription,tweetuserfollowerscount,tweetuserstatusescount,tweetusertimezone,tweetusergioenabled,tweetuserlang,tweetcoordinatescoordinates,tweetplacecountry,tweetplacecountrycode,tweetplacefullname,tweetplacename,tweetplacetype'"
      ]
     },
     "execution_count": 7,
     "metadata": {},
     "output_type": "execute_result"
    }
   ],
   "source": [
    "# Twitter data was collected and batched in files with each file having a file header\n",
    "\n",
    "# Extract the first file header from the dataset and display\n",
    "\n",
    "# This will be used later to remove all headers from the dataset\n",
    "\n",
    "header = ITData.first()\n",
    "header"
   ]
  },
  {
   "cell_type": "code",
   "execution_count": 8,
   "metadata": {},
   "outputs": [
    {
     "data": {
      "text/plain": [
       "104777"
      ]
     },
     "execution_count": 8,
     "metadata": {},
     "output_type": "execute_result"
    }
   ],
   "source": [
    "# Filter all of the headers from the data set\n",
    "\n",
    "# Count the number of records remaining in the data set\n",
    "\n",
    "# If 10 files were read from Hadoop, this count should be 10 less\n",
    "\n",
    "ITData_NoHeader = ITData.filter(lambda row : row != header)\n",
    "ITData_NoHeader.count()"
   ]
  },
  {
   "cell_type": "code",
   "execution_count": 9,
   "metadata": {},
   "outputs": [
    {
     "name": "stdout",
     "output_type": "stream",
     "text": [
      "root\n",
      " |-- timetext: string (nullable = true)\n",
      " |-- tweet_id: string (nullable = true)\n",
      " |-- tweet_source: string (nullable = true)\n",
      " |-- tweet_truncated: string (nullable = true)\n",
      " |-- tweet_text: string (nullable = true)\n",
      " |-- tweet_user_screen_name: string (nullable = true)\n",
      " |-- tweet_user_id: string (nullable = true)\n",
      " |-- tweet_user_location: string (nullable = true)\n",
      " |-- tweet_user_description: string (nullable = true)\n",
      " |-- tweet_user_followers_count: string (nullable = true)\n",
      " |-- tweet_user_statuses_count: string (nullable = true)\n",
      " |-- tweet_user_time_zone: string (nullable = true)\n",
      " |-- tweet_user_geo_enabled: string (nullable = true)\n",
      " |-- tweet_user_lang: string (nullable = true)\n",
      " |-- tweet_coordinates_coordinates: string (nullable = true)\n",
      " |-- tweet_place_country: string (nullable = true)\n",
      " |-- tweet_place_country_code: string (nullable = true)\n",
      " |-- tweet_place_full_name: string (nullable = true)\n",
      " |-- tweet_place_name: string (nullable = true)\n",
      " |-- tweet_place_type: string (nullable = true)\n",
      "\n"
     ]
    }
   ],
   "source": [
    "# We now have an RDD with not header information\n",
    "\n",
    "# In preparation for creating a dataframe from the RDD, create a schema based on the original header\n",
    "\n",
    "schema = StructType([\n",
    "    StructField('timetext', StringType(), nullable=True),\n",
    "    StructField('tweet_id', StringType(), nullable=True),\n",
    "    StructField('tweet_source', StringType(), nullable=True),\n",
    "    StructField('tweet_truncated', StringType(), nullable=True),\n",
    "    StructField('tweet_text', StringType(), nullable=True),\n",
    "    StructField('tweet_user_screen_name', StringType(), nullable=True),\n",
    "    StructField('tweet_user_id', StringType(), nullable=True),\n",
    "    StructField('tweet_user_location', StringType(), nullable=True),\n",
    "    StructField('tweet_user_description', StringType(), nullable=True),\n",
    "    StructField('tweet_user_followers_count', StringType(), nullable=True),\n",
    "    StructField('tweet_user_statuses_count', StringType(), nullable=True),\n",
    "    StructField('tweet_user_time_zone', StringType(), nullable=True),\n",
    "    StructField('tweet_user_geo_enabled', StringType(), nullable=True),\n",
    "    StructField('tweet_user_lang', StringType(), nullable=True),\n",
    "    StructField('tweet_coordinates_coordinates', StringType(), nullable=True),\n",
    "    StructField('tweet_place_country', StringType(), nullable=True),\n",
    "    StructField('tweet_place_country_code', StringType(), nullable=True),\n",
    "    StructField('tweet_place_full_name', StringType(), nullable=True),\n",
    "    StructField('tweet_place_name', StringType(), nullable=True),\n",
    "    StructField('tweet_place_type', StringType(), nullable=True)\n",
    "])\n",
    "\n",
    "# Create a dataframe from the RDD with schema\n",
    "\n",
    "ITData_df = sqlContext.createDataFrame(ITData_NoHeader.map(lambda s: s.split(\",\")), schema)\n",
    "\n",
    "ITData_df.printSchema()"
   ]
  },
  {
   "cell_type": "code",
   "execution_count": 10,
   "metadata": {},
   "outputs": [],
   "source": [
    "# First convert dataframe to rdd\n",
    "\n",
    "# Use map lambda to select the tweet_text column and filter out all empty records\n",
    "\n",
    "tweet = ITData_df.rdd.map(lambda x: x['tweet_text']).filter(lambda x: x is not None)"
   ]
  },
  {
   "cell_type": "code",
   "execution_count": 11,
   "metadata": {},
   "outputs": [],
   "source": [
    "# Retrieve stop words. Note we may need to add to the stop words list based on topic model results\n",
    "\n",
    "StopWords = stopwords.words(\"english\")"
   ]
  },
  {
   "cell_type": "code",
   "execution_count": 12,
   "metadata": {},
   "outputs": [],
   "source": [
    "# Further clean tweets, split them out into individual words, and number them by adding an index\n",
    "\n",
    "tokens = tweet.map(lambda document: document.strip().lower()) \\\n",
    "              .map(lambda document: re.split(\" \", document)) \\\n",
    "              .map(lambda word: [x for x in word if x.isalpha()]) \\\n",
    "              .map(lambda word: [x for x in word if len(x) > 3]) \\\n",
    "              .map(lambda word: [x for x in word if x not in StopWords]) \\\n",
    "              .zipWithIndex()"
   ]
  },
  {
   "cell_type": "code",
   "execution_count": 13,
   "metadata": {},
   "outputs": [
    {
     "data": {
      "text/plain": [
       "[([u'ageronews',\n",
       "   u'data',\n",
       "   u'science',\n",
       "   u'teams',\n",
       "   u'presentation',\n",
       "   u'sparkaisummit',\n",
       "   u'today'],\n",
       "  0),\n",
       " ([u'iafsite',\n",
       "   u'door',\n",
       "   u'closes',\n",
       "   u'another',\n",
       "   u'opens',\n",
       "   u'planning',\n",
       "   u'improve',\n",
       "   u'equipment',\n",
       "   u'replacing',\n",
       "   u'aircraft',\n",
       "   u'systems'],\n",
       "  1),\n",
       " ([u'kremlintrolls',\n",
       "   u'breaking',\n",
       "   u'facebook',\n",
       "   u'given',\n",
       "   u'least',\n",
       "   u'four',\n",
       "   u'chinese',\n",
       "   u'companies',\n",
       "   u'access',\n",
       "   u'user',\n",
       "   u'data',\n",
       "   u'flagged',\n",
       "   u'intellige'],\n",
       "  2),\n",
       " ([u'already',\n",
       "   u'didnt',\n",
       "   u'graduate',\n",
       "   u'honors',\n",
       "   u'didnt',\n",
       "   u'name',\n",
       "   u'graduation',\n",
       "   u'dinner',\n",
       "   u'dinner',\n",
       "   u'whose',\n",
       "   u'name',\n",
       "   u'didnt',\n",
       "   u'read',\n",
       "   u'java',\n",
       "   u'professor',\n",
       "   u'gave',\n",
       "   u'lecture',\n",
       "   u'grades',\n",
       "   u'dont',\n",
       "   u'matter',\n",
       "   u'super',\n",
       "   u'dont',\n",
       "   u'care',\n",
       "   u'errors'],\n",
       "  3),\n",
       " ([u'breaking',\n",
       "   u'facebook',\n",
       "   u'given',\n",
       "   u'least',\n",
       "   u'chinese',\n",
       "   u'companies',\n",
       "   u'access',\n",
       "   u'user',\n",
       "   u'data',\n",
       "   u'flagged',\n",
       "   u'intelligence'],\n",
       "  4)]"
      ]
     },
     "execution_count": 13,
     "metadata": {},
     "output_type": "execute_result"
    }
   ],
   "source": [
    "# tokens is an RDD, display the first 5 records\n",
    "\n",
    "tokens.take(5)"
   ]
  },
  {
   "cell_type": "code",
   "execution_count": 14,
   "metadata": {},
   "outputs": [],
   "source": [
    "# Create a new dataframe from the above RDD, adding column names\n",
    "\n",
    "tweet_df = sqlContext.createDataFrame(tokens, [\"tweet_words\", 'index'])"
   ]
  },
  {
   "cell_type": "code",
   "execution_count": 15,
   "metadata": {},
   "outputs": [
    {
     "name": "stdout",
     "output_type": "stream",
     "text": [
      "+--------------------+-----+\n",
      "|         tweet_words|index|\n",
      "+--------------------+-----+\n",
      "|[ageronews, data,...|    0|\n",
      "|[iafsite, door, c...|    1|\n",
      "|[kremlintrolls, b...|    2|\n",
      "|[already, didnt, ...|    3|\n",
      "|[breaking, facebo...|    4|\n",
      "+--------------------+-----+\n",
      "only showing top 5 rows\n",
      "\n"
     ]
    }
   ],
   "source": [
    "# Display the first 5 records of the dataframe\n",
    "\n",
    "tweet_df.show(5)"
   ]
  },
  {
   "cell_type": "code",
   "execution_count": 16,
   "metadata": {},
   "outputs": [
    {
     "name": "stdout",
     "output_type": "stream",
     "text": [
      "06272018 14:44:31\n",
      "06272018 14:44:58\n"
     ]
    }
   ],
   "source": [
    "# Prepare for Topic Modeling\n",
    "\n",
    "print(time.strftime('%m%d%Y %H:%M:%S'))\n",
    "cv = CountVectorizer(inputCol=\"tweet_words\", outputCol=\"raw_features\", vocabSize=5000, minDF=10.0)\n",
    "cvmodel = cv.fit(tweet_df)\n",
    "print(time.strftime('%m%d%Y %H:%M:%S'))"
   ]
  },
  {
   "cell_type": "code",
   "execution_count": 17,
   "metadata": {},
   "outputs": [
    {
     "name": "stdout",
     "output_type": "stream",
     "text": [
      "06272018 14:45:05\n",
      "06272018 14:45:06\n"
     ]
    }
   ],
   "source": [
    "print(time.strftime('%m%d%Y %H:%M:%S'))\n",
    "result_cv = cvmodel.transform(tweet_df)\n",
    "print(time.strftime('%m%d%Y %H:%M:%S'))"
   ]
  },
  {
   "cell_type": "code",
   "execution_count": 18,
   "metadata": {},
   "outputs": [
    {
     "name": "stdout",
     "output_type": "stream",
     "text": [
      "+--------------------+-----+--------------------+\n",
      "|         tweet_words|index|        raw_features|\n",
      "+--------------------+-----+--------------------+\n",
      "|[ageronews, data,...|    0|(5000,[0,19,44,99...|\n",
      "+--------------------+-----+--------------------+\n",
      "only showing top 1 row\n",
      "\n"
     ]
    }
   ],
   "source": [
    "result_cv.show(1)"
   ]
  },
  {
   "cell_type": "code",
   "execution_count": 19,
   "metadata": {},
   "outputs": [],
   "source": [
    "rs = result_cv.rdd.map(lambda (x, y, z): (x, y, oldVectors.fromML(z)))"
   ]
  },
  {
   "cell_type": "code",
   "execution_count": 20,
   "metadata": {},
   "outputs": [],
   "source": [
    "rs_df = rs.toDF(['tweet_words', 'index', 'raw_features'])"
   ]
  },
  {
   "cell_type": "code",
   "execution_count": 21,
   "metadata": {},
   "outputs": [
    {
     "data": {
      "text/plain": [
       "[([u'ageronews',\n",
       "   u'data',\n",
       "   u'science',\n",
       "   u'teams',\n",
       "   u'presentation',\n",
       "   u'sparkaisummit',\n",
       "   u'today'],\n",
       "  0,\n",
       "  SparseVector(5000, {0: 1.0, 19: 1.0, 44: 1.0, 993: 1.0, 2006: 1.0, 4829: 1.0}))]"
      ]
     },
     "execution_count": 21,
     "metadata": {},
     "output_type": "execute_result"
    }
   ],
   "source": [
    "rs.take(1)"
   ]
  },
  {
   "cell_type": "code",
   "execution_count": 22,
   "metadata": {},
   "outputs": [
    {
     "name": "stdout",
     "output_type": "stream",
     "text": [
      "+--------------------+-----+--------------------+\n",
      "|         tweet_words|index|        raw_features|\n",
      "+--------------------+-----+--------------------+\n",
      "|[ageronews, data,...|    0|(5000,[0,19,44,99...|\n",
      "+--------------------+-----+--------------------+\n",
      "only showing top 1 row\n",
      "\n"
     ]
    }
   ],
   "source": [
    "rs_df.show(1)"
   ]
  },
  {
   "cell_type": "code",
   "execution_count": 23,
   "metadata": {},
   "outputs": [
    {
     "name": "stdout",
     "output_type": "stream",
     "text": [
      "06272018 14:45:42\n",
      "06272018 14:46:03\n"
     ]
    }
   ],
   "source": [
    "print(time.strftime('%m%d%Y %H:%M:%S'))\n",
    "idf = IDF(inputCol=\"raw_features\", outputCol=\"features\")\n",
    "idfModel = idf.fit(result_cv)\n",
    "result_tfidf = idfModel.transform(result_cv)\n",
    "print(time.strftime('%m%d%Y %H:%M:%S'))"
   ]
  },
  {
   "cell_type": "code",
   "execution_count": 24,
   "metadata": {},
   "outputs": [
    {
     "name": "stdout",
     "output_type": "stream",
     "text": [
      "06272018 14:46:26\n",
      "06272018 14:50:35\n"
     ]
    }
   ],
   "source": [
    "# Run the LDA Topic Modeler\n",
    "\n",
    "# Note the time before and after is printed in order to find out how much time it takes to process x number of records\n",
    "\n",
    "print(time.strftime('%m%d%Y %H:%M:%S'))\n",
    "num_topics = 10\n",
    "max_iterations = 20\n",
    "lda_model = LDA.train(rs_df['index', 'raw_features'].rdd.map(list), k=num_topics, maxIterations=max_iterations)\n",
    "print(time.strftime('%m%d%Y %H:%M:%S'))"
   ]
  },
  {
   "cell_type": "code",
   "execution_count": 25,
   "metadata": {},
   "outputs": [],
   "source": [
    "vocabArray = cvmodel.vocabulary"
   ]
  },
  {
   "cell_type": "code",
   "execution_count": 26,
   "metadata": {},
   "outputs": [],
   "source": [
    "# Set the top number of topics to write to spark\n",
    "\n",
    "wordNumbers = 20\n",
    "topicIndices = sc.parallelize(lda_model.describeTopics(maxTermsPerTopic = wordNumbers))"
   ]
  },
  {
   "cell_type": "code",
   "execution_count": 27,
   "metadata": {},
   "outputs": [],
   "source": [
    "def topic_render(topic):\n",
    "    terms = topic[0]\n",
    "    result = []\n",
    "    for i in range(wordNumbers):\n",
    "        term = vocabArray[terms[i]]\n",
    "        result.append(term)\n",
    "    return result"
   ]
  },
  {
   "cell_type": "code",
   "execution_count": 28,
   "metadata": {},
   "outputs": [
    {
     "name": "stdout",
     "output_type": "stream",
     "text": [
      "06272018 14:57:18\n",
      "06272018 14:57:18\n"
     ]
    }
   ],
   "source": [
    "print(time.strftime('%m%d%Y %H:%M:%S'))\n",
    "topics_final = topicIndices.map(lambda topic:\n",
    "                               topic_render(topic)).collect()\n",
    "print(time.strftime('%m%d%Y %H:%M:%S'))"
   ]
  },
  {
   "cell_type": "code",
   "execution_count": 29,
   "metadata": {},
   "outputs": [
    {
     "name": "stdout",
     "output_type": "stream",
     "text": [
      "Topic0:\n",
      "data\n",
      "technology\n",
      "facebook\n",
      "sure\n",
      "computer\n",
      "chinese\n",
      "saved\n",
      "erased\n",
      "manage\n",
      "ithegiovanni\n",
      "cloud\n",
      "robotics\n",
      "access\n",
      "systems\n",
      "developer\n",
      "blockchain\n",
      "hybrid\n",
      "companies\n",
      "user\n",
      "flagged\n",
      "\n",
      "\n",
      "Topic1:\n",
      "data\n",
      "technology\n",
      "facebook\n",
      "computer\n",
      "sure\n",
      "manage\n",
      "saved\n",
      "ithegiovanni\n",
      "erased\n",
      "cloud\n",
      "chinese\n",
      "robotics\n",
      "systems\n",
      "access\n",
      "developer\n",
      "blockchain\n",
      "hybrid\n",
      "companies\n",
      "intelligence\n",
      "internet\n",
      "\n",
      "\n",
      "Topic2:\n",
      "data\n",
      "technology\n",
      "facebook\n",
      "computer\n",
      "sure\n",
      "cloud\n",
      "manage\n",
      "saved\n",
      "ithegiovanni\n",
      "erased\n",
      "chinese\n",
      "robotics\n",
      "systems\n",
      "access\n",
      "blockchain\n",
      "developer\n",
      "companies\n",
      "user\n",
      "like\n",
      "science\n",
      "\n",
      "\n",
      "Topic3:\n",
      "data\n",
      "technology\n",
      "facebook\n",
      "sure\n",
      "manage\n",
      "saved\n",
      "ithegiovanni\n",
      "erased\n",
      "computer\n",
      "chinese\n",
      "cloud\n",
      "robotics\n",
      "systems\n",
      "access\n",
      "developer\n",
      "blockchain\n",
      "companies\n",
      "user\n",
      "science\n",
      "hybrid\n",
      "\n",
      "\n",
      "Topic4:\n",
      "data\n",
      "technology\n",
      "facebook\n",
      "computer\n",
      "sure\n",
      "cloud\n",
      "chinese\n",
      "manage\n",
      "saved\n",
      "erased\n",
      "ithegiovanni\n",
      "robotics\n",
      "access\n",
      "developer\n",
      "systems\n",
      "blockchain\n",
      "companies\n",
      "hybrid\n",
      "intelligence\n",
      "user\n",
      "\n",
      "\n",
      "Topic5:\n",
      "data\n",
      "technology\n",
      "facebook\n",
      "computer\n",
      "sure\n",
      "manage\n",
      "saved\n",
      "ithegiovanni\n",
      "cloud\n",
      "erased\n",
      "chinese\n",
      "robotics\n",
      "access\n",
      "developer\n",
      "systems\n",
      "blockchain\n",
      "hybrid\n",
      "companies\n",
      "science\n",
      "user\n",
      "\n",
      "\n",
      "Topic6:\n",
      "data\n",
      "technology\n",
      "facebook\n",
      "sure\n",
      "computer\n",
      "saved\n",
      "manage\n",
      "erased\n",
      "cloud\n",
      "ithegiovanni\n",
      "chinese\n",
      "robotics\n",
      "systems\n",
      "access\n",
      "blockchain\n",
      "developer\n",
      "hybrid\n",
      "companies\n",
      "user\n",
      "science\n",
      "\n",
      "\n",
      "Topic7:\n",
      "data\n",
      "technology\n",
      "facebook\n",
      "computer\n",
      "sure\n",
      "cloud\n",
      "manage\n",
      "erased\n",
      "saved\n",
      "chinese\n",
      "ithegiovanni\n",
      "robotics\n",
      "systems\n",
      "developer\n",
      "access\n",
      "blockchain\n",
      "companies\n",
      "science\n",
      "programming\n",
      "user\n",
      "\n",
      "\n",
      "Topic8:\n",
      "data\n",
      "technology\n",
      "facebook\n",
      "sure\n",
      "computer\n",
      "manage\n",
      "saved\n",
      "ithegiovanni\n",
      "erased\n",
      "cloud\n",
      "chinese\n",
      "robotics\n",
      "systems\n",
      "blockchain\n",
      "access\n",
      "developer\n",
      "hybrid\n",
      "companies\n",
      "user\n",
      "like\n",
      "\n",
      "\n",
      "Topic9:\n",
      "data\n",
      "technology\n",
      "facebook\n",
      "computer\n",
      "sure\n",
      "manage\n",
      "saved\n",
      "ithegiovanni\n",
      "chinese\n",
      "erased\n",
      "cloud\n",
      "robotics\n",
      "access\n",
      "systems\n",
      "developer\n",
      "blockchain\n",
      "hybrid\n",
      "companies\n",
      "programming\n",
      "science\n",
      "\n",
      "\n"
     ]
    }
   ],
   "source": [
    "# Display topics\n",
    "\n",
    "for topic in range(len(topics_final)):\n",
    "    print(\"Topic\" + str(topic) + \":\")\n",
    "    for term in topics_final[topic]:\n",
    "        print(term)\n",
    "    print('\\n')"
   ]
  },
  {
   "cell_type": "code",
   "execution_count": 30,
   "metadata": {},
   "outputs": [
    {
     "data": {
      "text/plain": [
       "['machine_learning',\n",
       " 'computer_programmer',\n",
       " 'database_engineer',\n",
       " 'network_engineer',\n",
       " 'data_scientist',\n",
       " 'systems_engineer',\n",
       " 'data_analyst',\n",
       " 'data_architect',\n",
       " 'etl_architect',\n",
       " 'web_programmer',\n",
       " 'automation_engineer',\n",
       " 'data_processing',\n",
       " 'application_engineer',\n",
       " 'software_engineer',\n",
       " 'software_developer',\n",
       " 'information_architect',\n",
       " 'security_analyst',\n",
       " 'business_intelligence',\n",
       " 'enterprise_architect',\n",
       " 'solution_architect',\n",
       " 'data_warehouse',\n",
       " 'information_technology',\n",
       " 'data',\n",
       " 'java',\n",
       " 'iot',\n",
       " 'computer',\n",
       " 'systems',\n",
       " 'technology',\n",
       " 'etl',\n",
       " 'devops',\n",
       " 'cloud',\n",
       " 'developer',\n",
       " 'programmer',\n",
       " 'ai']"
      ]
     },
     "execution_count": 30,
     "metadata": {},
     "output_type": "execute_result"
    }
   ],
   "source": [
    "# The above above relates topics to the terms I searched in Twitter\n",
    "\n",
    "# For sentiment analysis, I would like to rate the actual search terms.\n",
    "\n",
    "# For this I will build a python array with those search terms\n",
    "\n",
    "search_terms = [\"machine_learning\", \"computer_programmer\", \"database_engineer\", \"network_engineer\", \\\n",
    "                \"data_scientist\", \"systems_engineer\", \"data_analyst\", \"data_architect\", \"etl_architect\", \\\n",
    "                \"web_programmer\", \"automation_engineer\", \"data_processing\", \"application_engineer\", \\\n",
    "                \"software_engineer\", \"software_developer\", \"information_architect\", \"security_analyst\", \\\n",
    "                \"business_intelligence\", \"enterprise_architect\", \"solution_architect\", \"data_warehouse\", \\\n",
    "                \"information_technology\", \"data\", \"java\", \"iot\", \"computer\", \"systems\", \"technology\", \\\n",
    "                \"etl\", \"devops\", \"cloud\", \"developer\", \"programmer\", \"ai\"]\n",
    "\n",
    "search_terms"
   ]
  },
  {
   "cell_type": "code",
   "execution_count": 31,
   "metadata": {},
   "outputs": [],
   "source": [
    "# Python function to search for topics within a tweet\n",
    "\n",
    "# Function will return the topic and the related tweet or NA is no topic found and the related tweet\n",
    "\n",
    "def SearchTopics(topics, tweet_text):\n",
    "    for term in topics:\n",
    "        result = tweet_text.find(term)\n",
    "        if result > -1:\n",
    "            return term, tweet_text\n",
    "    return 'NA', tweet_text"
   ]
  },
  {
   "cell_type": "code",
   "execution_count": 32,
   "metadata": {},
   "outputs": [
    {
     "data": {
      "text/plain": [
       "[u'AgeroNews data science teams presentation at SparkAISummit today httpstco7F2IAUvN4o',\n",
       " u'RT IAFsite When one door closes  another opens  The IAF is planning to improve its equipment  replacing old aircraft and systems  while',\n",
       " u'RT KremlinTrolls BREAKING Facebook has given at least four Chinese companies access to user data One has been flagged by US intellige',\n",
       " u'So I already didnt graduate with honors they didnt say my name at the graduation dinner  I was one of VERY FEW at the dinner whose name didnt get read so after my Java professor gave us a lecture about how grades dont matter I SUPER dont care about errors in the HW',\n",
       " u'RT Breaking911 BREAKING Facebook has given at least 4 Chinese companies access to user data One has been flagged by US intelligence a']"
      ]
     },
     "execution_count": 32,
     "metadata": {},
     "output_type": "execute_result"
    }
   ],
   "source": [
    "# While removing stopwords helps obtain valid topics it will not help with sentiment analysis\n",
    "\n",
    "# With topics in hand, topics_final, we will use tweets where stop words have not been removed\n",
    "\n",
    "tweet.take(5)"
   ]
  },
  {
   "cell_type": "code",
   "execution_count": 33,
   "metadata": {},
   "outputs": [],
   "source": [
    "# Search each tweet for topics returning only tweets that match\n",
    "\n",
    "# SearchTopics will return both the topic and the related tweet\n",
    "\n",
    "# Sentiment will be done on these tweets\n",
    "\n",
    "topic_tweet = tweet.map(lambda x: SearchTopics(search_terms, x)).filter(lambda x: x[0] != 'NA')"
   ]
  },
  {
   "cell_type": "code",
   "execution_count": 34,
   "metadata": {},
   "outputs": [
    {
     "data": {
      "text/plain": [
       "[('data',\n",
       "  u'AgeroNews data science teams presentation at SparkAISummit today httpstco7F2IAUvN4o'),\n",
       " ('systems',\n",
       "  u'RT IAFsite When one door closes  another opens  The IAF is planning to improve its equipment  replacing old aircraft and systems  while'),\n",
       " ('data',\n",
       "  u'RT KremlinTrolls BREAKING Facebook has given at least four Chinese companies access to user data One has been flagged by US intellige'),\n",
       " ('data',\n",
       "  u'RT Breaking911 BREAKING Facebook has given at least 4 Chinese companies access to user data One has been flagged by US intelligence a'),\n",
       " ('data',\n",
       "  u'RT KremlinTrolls BREAKING Facebook has given at least four Chinese companies access to user data One has been flagged by US intellige'),\n",
       " ('data',\n",
       "  u'RT PoliticalShort Facebook confirmed that 4 Chinese device makers were among those that had broad access to customer data under a program'),\n",
       " ('iot',\n",
       "  u'bruabreus thehorrorpics youlovemypugs pussyriotx AI QUE HORROR KKKKKKKKKKKKKKK'),\n",
       " ('data',\n",
       "  u'RT Reuters Facebook confirms data sharing with Chinese companies httpstco7tnlS6aTPe'),\n",
       " ('systems',\n",
       "  u'Military bases have dangerous toxins children are especially stressed with fragile immune systemsThey have no right to subject these precious gifts from the Creator to what equals to child torture'),\n",
       " ('iot',\n",
       "  u'KeineMaster LITTLEM1B KEEMSTAR TTfue Lol you really think Im mad over an idiot sitting behind his computer that started a tournament that streamers join and has his manager team do all the work  lmfao What a joke Keemstar is an idiot deal with it Stop defending him for nothing')]"
      ]
     },
     "execution_count": 34,
     "metadata": {},
     "output_type": "execute_result"
    }
   ],
   "source": [
    "# Display 5 topic tweet combinations\n",
    "\n",
    "topic_tweet.take(10)"
   ]
  },
  {
   "cell_type": "code",
   "execution_count": 35,
   "metadata": {},
   "outputs": [
    {
     "name": "stderr",
     "output_type": "stream",
     "text": [
      "/home/vagrant/anaconda2/lib/python2.7/site-packages/nltk/twitter/__init__.py:20: UserWarning: The twython library has not been installed. Some functionality from the twitter package will not be available.\n",
      "  warnings.warn(\"The twython library has not been installed. \"\n"
     ]
    },
    {
     "name": "stdout",
     "output_type": "stream",
     "text": [
      "[nltk_data] Downloading package vader_lexicon to\n",
      "[nltk_data]     /home/vagrant/nltk_data...\n",
      "[nltk_data]   Package vader_lexicon is already up-to-date!\n"
     ]
    },
    {
     "data": {
      "text/plain": [
       "True"
      ]
     },
     "execution_count": 35,
     "metadata": {},
     "output_type": "execute_result"
    }
   ],
   "source": [
    "# Setup sentiment analysis\n",
    "\n",
    "import nltk\n",
    "from nltk.sentiment.vader import SentimentIntensityAnalyzer\n",
    "nltk.download('vader_lexicon')"
   ]
  },
  {
   "cell_type": "code",
   "execution_count": 36,
   "metadata": {},
   "outputs": [],
   "source": [
    "# Python function to print the sentiment scores\n",
    "\n",
    "# This function will have topic and related tweet as in put\n",
    "\n",
    "# This function will perform sentiment analysis and output topic, tweet, and sentiment\n",
    "\n",
    "# Also note this function will only return the compound portion of the sentiment\n",
    "\n",
    "# Revert sigpipe to default behavior\n",
    "\n",
    "def print_sentiment_scores(topic, sentence):\n",
    "    snt = SentimentIntensityAnalyzer().polarity_scores(sentence)\n",
    "    print(\"{:-<40} {}\".format(sentence, str(snt)))\n",
    "    print(str(snt))\n",
    "    return(topic, sentence, str(snt.get('compound')))"
   ]
  },
  {
   "cell_type": "code",
   "execution_count": 37,
   "metadata": {},
   "outputs": [],
   "source": [
    "# Retrieve sentiment for each topic, tweet\n",
    "\n",
    "topic_tweet_sentiment = topic_tweet.map(lambda x: print_sentiment_scores(x[0], x[1]))"
   ]
  },
  {
   "cell_type": "code",
   "execution_count": 38,
   "metadata": {},
   "outputs": [
    {
     "data": {
      "text/plain": [
       "[('data',\n",
       "  u'AgeroNews data science teams presentation at SparkAISummit today httpstco7F2IAUvN4o',\n",
       "  '0.0'),\n",
       " ('systems',\n",
       "  u'RT IAFsite When one door closes  another opens  The IAF is planning to improve its equipment  replacing old aircraft and systems  while',\n",
       "  '0.4404'),\n",
       " ('data',\n",
       "  u'RT KremlinTrolls BREAKING Facebook has given at least four Chinese companies access to user data One has been flagged by US intellige',\n",
       "  '0.0'),\n",
       " ('data',\n",
       "  u'RT Breaking911 BREAKING Facebook has given at least 4 Chinese companies access to user data One has been flagged by US intelligence a',\n",
       "  '0.4767'),\n",
       " ('data',\n",
       "  u'RT KremlinTrolls BREAKING Facebook has given at least four Chinese companies access to user data One has been flagged by US intellige',\n",
       "  '0.0'),\n",
       " ('data',\n",
       "  u'RT PoliticalShort Facebook confirmed that 4 Chinese device makers were among those that had broad access to customer data under a program',\n",
       "  '0.0'),\n",
       " ('iot',\n",
       "  u'bruabreus thehorrorpics youlovemypugs pussyriotx AI QUE HORROR KKKKKKKKKKKKKKK',\n",
       "  '-0.6633'),\n",
       " ('data',\n",
       "  u'RT Reuters Facebook confirms data sharing with Chinese companies httpstco7tnlS6aTPe',\n",
       "  '0.4215'),\n",
       " ('systems',\n",
       "  u'Military bases have dangerous toxins children are especially stressed with fragile immune systemsThey have no right to subject these precious gifts from the Creator to what equals to child torture',\n",
       "  '-0.7178'),\n",
       " ('iot',\n",
       "  u'KeineMaster LITTLEM1B KEEMSTAR TTfue Lol you really think Im mad over an idiot sitting behind his computer that started a tournament that streamers join and has his manager team do all the work  lmfao What a joke Keemstar is an idiot deal with it Stop defending him for nothing',\n",
       "  '-0.3744')]"
      ]
     },
     "execution_count": 38,
     "metadata": {},
     "output_type": "execute_result"
    }
   ],
   "source": [
    "# Display sentiment\n",
    "\n",
    "topic_tweet_sentiment.take(10)"
   ]
  },
  {
   "cell_type": "code",
   "execution_count": 39,
   "metadata": {},
   "outputs": [],
   "source": [
    "# Assign the topic and sentiment only\n",
    "\n",
    "topic_tweet_sentiment_pair = topic_tweet_sentiment.map(lambda x: (x[0], x[2]))"
   ]
  },
  {
   "cell_type": "code",
   "execution_count": 40,
   "metadata": {},
   "outputs": [
    {
     "data": {
      "text/plain": [
       "[('data', '0.0'),\n",
       " ('systems', '0.4404'),\n",
       " ('data', '0.0'),\n",
       " ('data', '0.4767'),\n",
       " ('data', '0.0'),\n",
       " ('data', '0.0'),\n",
       " ('iot', '-0.6633'),\n",
       " ('data', '0.4215'),\n",
       " ('systems', '-0.7178'),\n",
       " ('iot', '-0.3744')]"
      ]
     },
     "execution_count": 40,
     "metadata": {},
     "output_type": "execute_result"
    }
   ],
   "source": [
    "# Display topic, sentiment combination\n",
    "\n",
    "topic_tweet_sentiment_pair.take(10)"
   ]
  },
  {
   "cell_type": "code",
   "execution_count": 41,
   "metadata": {},
   "outputs": [],
   "source": [
    "# Convert to dataframe naming columns\n",
    "\n",
    "topic_tweet_sentiment_pair_df = topic_tweet_sentiment_pair.toDF(['topic', 'sentiment'])"
   ]
  },
  {
   "cell_type": "code",
   "execution_count": 42,
   "metadata": {
    "scrolled": true
   },
   "outputs": [
    {
     "name": "stdout",
     "output_type": "stream",
     "text": [
      "+-------+---------+\n",
      "|  topic|sentiment|\n",
      "+-------+---------+\n",
      "|   data|      0.0|\n",
      "|systems|   0.4404|\n",
      "|   data|      0.0|\n",
      "|   data|   0.4767|\n",
      "|   data|      0.0|\n",
      "+-------+---------+\n",
      "only showing top 5 rows\n",
      "\n"
     ]
    }
   ],
   "source": [
    "# Display dataframe\n",
    "\n",
    "topic_tweet_sentiment_pair_df.show(5)"
   ]
  },
  {
   "cell_type": "code",
   "execution_count": 43,
   "metadata": {},
   "outputs": [
    {
     "data": {
      "text/plain": [
       "61624"
      ]
     },
     "execution_count": 43,
     "metadata": {},
     "output_type": "execute_result"
    }
   ],
   "source": [
    "# Count sentiment records\n",
    "\n",
    "topic_tweet_sentiment_pair_df.count()"
   ]
  },
  {
   "cell_type": "code",
   "execution_count": 44,
   "metadata": {},
   "outputs": [],
   "source": [
    "# Create panda dataframe based on topic, sentiment dataframe\n",
    "\n",
    "# This dataframe will enable us to plot highs, lows, and means\n",
    "\n",
    "pdf1 = topic_tweet_sentiment_pair_df.toPandas()"
   ]
  },
  {
   "cell_type": "code",
   "execution_count": 45,
   "metadata": {},
   "outputs": [
    {
     "data": {
      "text/plain": [
       "topic        object\n",
       "sentiment    object\n",
       "dtype: object"
      ]
     },
     "execution_count": 45,
     "metadata": {},
     "output_type": "execute_result"
    }
   ],
   "source": [
    "# Check new dataframe types\n",
    "\n",
    "pdf1.dtypes"
   ]
  },
  {
   "cell_type": "code",
   "execution_count": 46,
   "metadata": {},
   "outputs": [
    {
     "data": {
      "text/html": [
       "<div>\n",
       "<style scoped>\n",
       "    .dataframe tbody tr th:only-of-type {\n",
       "        vertical-align: middle;\n",
       "    }\n",
       "\n",
       "    .dataframe tbody tr th {\n",
       "        vertical-align: top;\n",
       "    }\n",
       "\n",
       "    .dataframe thead th {\n",
       "        text-align: right;\n",
       "    }\n",
       "</style>\n",
       "<table border=\"1\" class=\"dataframe\">\n",
       "  <thead>\n",
       "    <tr style=\"text-align: right;\">\n",
       "      <th></th>\n",
       "      <th>topic</th>\n",
       "      <th>sentiment</th>\n",
       "    </tr>\n",
       "  </thead>\n",
       "  <tbody>\n",
       "    <tr>\n",
       "      <th>0</th>\n",
       "      <td>data</td>\n",
       "      <td>0.0000</td>\n",
       "    </tr>\n",
       "    <tr>\n",
       "      <th>1</th>\n",
       "      <td>systems</td>\n",
       "      <td>0.4404</td>\n",
       "    </tr>\n",
       "    <tr>\n",
       "      <th>2</th>\n",
       "      <td>data</td>\n",
       "      <td>0.0000</td>\n",
       "    </tr>\n",
       "    <tr>\n",
       "      <th>3</th>\n",
       "      <td>data</td>\n",
       "      <td>0.4767</td>\n",
       "    </tr>\n",
       "    <tr>\n",
       "      <th>4</th>\n",
       "      <td>data</td>\n",
       "      <td>0.0000</td>\n",
       "    </tr>\n",
       "    <tr>\n",
       "      <th>5</th>\n",
       "      <td>data</td>\n",
       "      <td>0.0000</td>\n",
       "    </tr>\n",
       "    <tr>\n",
       "      <th>6</th>\n",
       "      <td>iot</td>\n",
       "      <td>-0.6633</td>\n",
       "    </tr>\n",
       "    <tr>\n",
       "      <th>7</th>\n",
       "      <td>data</td>\n",
       "      <td>0.4215</td>\n",
       "    </tr>\n",
       "    <tr>\n",
       "      <th>8</th>\n",
       "      <td>systems</td>\n",
       "      <td>-0.7178</td>\n",
       "    </tr>\n",
       "    <tr>\n",
       "      <th>9</th>\n",
       "      <td>iot</td>\n",
       "      <td>-0.3744</td>\n",
       "    </tr>\n",
       "    <tr>\n",
       "      <th>10</th>\n",
       "      <td>ai</td>\n",
       "      <td>0.0000</td>\n",
       "    </tr>\n",
       "    <tr>\n",
       "      <th>11</th>\n",
       "      <td>ai</td>\n",
       "      <td>0.0000</td>\n",
       "    </tr>\n",
       "    <tr>\n",
       "      <th>12</th>\n",
       "      <td>computer</td>\n",
       "      <td>0.6045</td>\n",
       "    </tr>\n",
       "    <tr>\n",
       "      <th>13</th>\n",
       "      <td>ai</td>\n",
       "      <td>0.0000</td>\n",
       "    </tr>\n",
       "    <tr>\n",
       "      <th>14</th>\n",
       "      <td>ai</td>\n",
       "      <td>-0.5267</td>\n",
       "    </tr>\n",
       "    <tr>\n",
       "      <th>15</th>\n",
       "      <td>data</td>\n",
       "      <td>0.0000</td>\n",
       "    </tr>\n",
       "    <tr>\n",
       "      <th>16</th>\n",
       "      <td>data</td>\n",
       "      <td>0.0000</td>\n",
       "    </tr>\n",
       "    <tr>\n",
       "      <th>17</th>\n",
       "      <td>data</td>\n",
       "      <td>0.0000</td>\n",
       "    </tr>\n",
       "    <tr>\n",
       "      <th>18</th>\n",
       "      <td>ai</td>\n",
       "      <td>-0.5267</td>\n",
       "    </tr>\n",
       "    <tr>\n",
       "      <th>19</th>\n",
       "      <td>data</td>\n",
       "      <td>0.0000</td>\n",
       "    </tr>\n",
       "    <tr>\n",
       "      <th>20</th>\n",
       "      <td>computer</td>\n",
       "      <td>-0.6705</td>\n",
       "    </tr>\n",
       "    <tr>\n",
       "      <th>21</th>\n",
       "      <td>data</td>\n",
       "      <td>0.6486</td>\n",
       "    </tr>\n",
       "    <tr>\n",
       "      <th>22</th>\n",
       "      <td>ai</td>\n",
       "      <td>0.0000</td>\n",
       "    </tr>\n",
       "    <tr>\n",
       "      <th>23</th>\n",
       "      <td>ai</td>\n",
       "      <td>0.0000</td>\n",
       "    </tr>\n",
       "    <tr>\n",
       "      <th>24</th>\n",
       "      <td>ai</td>\n",
       "      <td>0.0000</td>\n",
       "    </tr>\n",
       "    <tr>\n",
       "      <th>25</th>\n",
       "      <td>developer</td>\n",
       "      <td>0.0772</td>\n",
       "    </tr>\n",
       "    <tr>\n",
       "      <th>26</th>\n",
       "      <td>data</td>\n",
       "      <td>0.6249</td>\n",
       "    </tr>\n",
       "    <tr>\n",
       "      <th>27</th>\n",
       "      <td>machine_learning</td>\n",
       "      <td>0.4588</td>\n",
       "    </tr>\n",
       "    <tr>\n",
       "      <th>28</th>\n",
       "      <td>systems</td>\n",
       "      <td>0.0000</td>\n",
       "    </tr>\n",
       "    <tr>\n",
       "      <th>29</th>\n",
       "      <td>cloud</td>\n",
       "      <td>0.0000</td>\n",
       "    </tr>\n",
       "    <tr>\n",
       "      <th>...</th>\n",
       "      <td>...</td>\n",
       "      <td>...</td>\n",
       "    </tr>\n",
       "    <tr>\n",
       "      <th>61594</th>\n",
       "      <td>ai</td>\n",
       "      <td>0.0000</td>\n",
       "    </tr>\n",
       "    <tr>\n",
       "      <th>61595</th>\n",
       "      <td>developer</td>\n",
       "      <td>0.0000</td>\n",
       "    </tr>\n",
       "    <tr>\n",
       "      <th>61596</th>\n",
       "      <td>data</td>\n",
       "      <td>0.2732</td>\n",
       "    </tr>\n",
       "    <tr>\n",
       "      <th>61597</th>\n",
       "      <td>ai</td>\n",
       "      <td>0.0000</td>\n",
       "    </tr>\n",
       "    <tr>\n",
       "      <th>61598</th>\n",
       "      <td>data</td>\n",
       "      <td>0.2732</td>\n",
       "    </tr>\n",
       "    <tr>\n",
       "      <th>61599</th>\n",
       "      <td>data</td>\n",
       "      <td>0.4767</td>\n",
       "    </tr>\n",
       "    <tr>\n",
       "      <th>61600</th>\n",
       "      <td>technology</td>\n",
       "      <td>0.0000</td>\n",
       "    </tr>\n",
       "    <tr>\n",
       "      <th>61601</th>\n",
       "      <td>ai</td>\n",
       "      <td>0.0000</td>\n",
       "    </tr>\n",
       "    <tr>\n",
       "      <th>61602</th>\n",
       "      <td>ai</td>\n",
       "      <td>0.0000</td>\n",
       "    </tr>\n",
       "    <tr>\n",
       "      <th>61603</th>\n",
       "      <td>data</td>\n",
       "      <td>0.5106</td>\n",
       "    </tr>\n",
       "    <tr>\n",
       "      <th>61604</th>\n",
       "      <td>systems</td>\n",
       "      <td>0.6486</td>\n",
       "    </tr>\n",
       "    <tr>\n",
       "      <th>61605</th>\n",
       "      <td>computer</td>\n",
       "      <td>0.0000</td>\n",
       "    </tr>\n",
       "    <tr>\n",
       "      <th>61606</th>\n",
       "      <td>ai</td>\n",
       "      <td>0.0000</td>\n",
       "    </tr>\n",
       "    <tr>\n",
       "      <th>61607</th>\n",
       "      <td>computer</td>\n",
       "      <td>-0.6808</td>\n",
       "    </tr>\n",
       "    <tr>\n",
       "      <th>61608</th>\n",
       "      <td>ai</td>\n",
       "      <td>0.0000</td>\n",
       "    </tr>\n",
       "    <tr>\n",
       "      <th>61609</th>\n",
       "      <td>technology</td>\n",
       "      <td>0.0000</td>\n",
       "    </tr>\n",
       "    <tr>\n",
       "      <th>61610</th>\n",
       "      <td>developer</td>\n",
       "      <td>0.7351</td>\n",
       "    </tr>\n",
       "    <tr>\n",
       "      <th>61611</th>\n",
       "      <td>iot</td>\n",
       "      <td>0.4019</td>\n",
       "    </tr>\n",
       "    <tr>\n",
       "      <th>61612</th>\n",
       "      <td>computer</td>\n",
       "      <td>0.0772</td>\n",
       "    </tr>\n",
       "    <tr>\n",
       "      <th>61613</th>\n",
       "      <td>ai</td>\n",
       "      <td>0.0000</td>\n",
       "    </tr>\n",
       "    <tr>\n",
       "      <th>61614</th>\n",
       "      <td>ai</td>\n",
       "      <td>0.0000</td>\n",
       "    </tr>\n",
       "    <tr>\n",
       "      <th>61615</th>\n",
       "      <td>data</td>\n",
       "      <td>0.0000</td>\n",
       "    </tr>\n",
       "    <tr>\n",
       "      <th>61616</th>\n",
       "      <td>ai</td>\n",
       "      <td>-0.2960</td>\n",
       "    </tr>\n",
       "    <tr>\n",
       "      <th>61617</th>\n",
       "      <td>ai</td>\n",
       "      <td>0.0000</td>\n",
       "    </tr>\n",
       "    <tr>\n",
       "      <th>61618</th>\n",
       "      <td>systems</td>\n",
       "      <td>0.6486</td>\n",
       "    </tr>\n",
       "    <tr>\n",
       "      <th>61619</th>\n",
       "      <td>technology</td>\n",
       "      <td>0.5106</td>\n",
       "    </tr>\n",
       "    <tr>\n",
       "      <th>61620</th>\n",
       "      <td>ai</td>\n",
       "      <td>-0.3818</td>\n",
       "    </tr>\n",
       "    <tr>\n",
       "      <th>61621</th>\n",
       "      <td>data</td>\n",
       "      <td>0.0000</td>\n",
       "    </tr>\n",
       "    <tr>\n",
       "      <th>61622</th>\n",
       "      <td>data</td>\n",
       "      <td>0.6249</td>\n",
       "    </tr>\n",
       "    <tr>\n",
       "      <th>61623</th>\n",
       "      <td>ai</td>\n",
       "      <td>0.0000</td>\n",
       "    </tr>\n",
       "  </tbody>\n",
       "</table>\n",
       "<p>61624 rows × 2 columns</p>\n",
       "</div>"
      ],
      "text/plain": [
       "                  topic  sentiment\n",
       "0                  data     0.0000\n",
       "1               systems     0.4404\n",
       "2                  data     0.0000\n",
       "3                  data     0.4767\n",
       "4                  data     0.0000\n",
       "5                  data     0.0000\n",
       "6                   iot    -0.6633\n",
       "7                  data     0.4215\n",
       "8               systems    -0.7178\n",
       "9                   iot    -0.3744\n",
       "10                   ai     0.0000\n",
       "11                   ai     0.0000\n",
       "12             computer     0.6045\n",
       "13                   ai     0.0000\n",
       "14                   ai    -0.5267\n",
       "15                 data     0.0000\n",
       "16                 data     0.0000\n",
       "17                 data     0.0000\n",
       "18                   ai    -0.5267\n",
       "19                 data     0.0000\n",
       "20             computer    -0.6705\n",
       "21                 data     0.6486\n",
       "22                   ai     0.0000\n",
       "23                   ai     0.0000\n",
       "24                   ai     0.0000\n",
       "25            developer     0.0772\n",
       "26                 data     0.6249\n",
       "27     machine_learning     0.4588\n",
       "28              systems     0.0000\n",
       "29                cloud     0.0000\n",
       "...                 ...        ...\n",
       "61594                ai     0.0000\n",
       "61595         developer     0.0000\n",
       "61596              data     0.2732\n",
       "61597                ai     0.0000\n",
       "61598              data     0.2732\n",
       "61599              data     0.4767\n",
       "61600        technology     0.0000\n",
       "61601                ai     0.0000\n",
       "61602                ai     0.0000\n",
       "61603              data     0.5106\n",
       "61604           systems     0.6486\n",
       "61605          computer     0.0000\n",
       "61606                ai     0.0000\n",
       "61607          computer    -0.6808\n",
       "61608                ai     0.0000\n",
       "61609        technology     0.0000\n",
       "61610         developer     0.7351\n",
       "61611               iot     0.4019\n",
       "61612          computer     0.0772\n",
       "61613                ai     0.0000\n",
       "61614                ai     0.0000\n",
       "61615              data     0.0000\n",
       "61616                ai    -0.2960\n",
       "61617                ai     0.0000\n",
       "61618           systems     0.6486\n",
       "61619        technology     0.5106\n",
       "61620                ai    -0.3818\n",
       "61621              data     0.0000\n",
       "61622              data     0.6249\n",
       "61623                ai     0.0000\n",
       "\n",
       "[61624 rows x 2 columns]"
      ]
     },
     "execution_count": 46,
     "metadata": {},
     "output_type": "execute_result"
    }
   ],
   "source": [
    "# Sentiment is currently of type object, needs to be float\n",
    "\n",
    "# Convert sentiment datatype to float\n",
    "\n",
    "pdf1['sentiment'] = pdf1.sentiment.astype(float)\n",
    "\n",
    "# Check datatypes\n",
    "\n",
    "pdf1.dtypes\n",
    "\n",
    "# list new panda dataframe\n",
    "\n",
    "pdf1"
   ]
  },
  {
   "cell_type": "code",
   "execution_count": 47,
   "metadata": {},
   "outputs": [
    {
     "data": {
      "text/html": [
       "<div>\n",
       "<style scoped>\n",
       "    .dataframe tbody tr th:only-of-type {\n",
       "        vertical-align: middle;\n",
       "    }\n",
       "\n",
       "    .dataframe tbody tr th {\n",
       "        vertical-align: top;\n",
       "    }\n",
       "\n",
       "    .dataframe thead th {\n",
       "        text-align: right;\n",
       "    }\n",
       "</style>\n",
       "<table border=\"1\" class=\"dataframe\">\n",
       "  <thead>\n",
       "    <tr style=\"text-align: right;\">\n",
       "      <th></th>\n",
       "      <th>sentiment</th>\n",
       "    </tr>\n",
       "  </thead>\n",
       "  <tbody>\n",
       "    <tr>\n",
       "      <th>count</th>\n",
       "      <td>61624.000000</td>\n",
       "    </tr>\n",
       "    <tr>\n",
       "      <th>mean</th>\n",
       "      <td>0.158525</td>\n",
       "    </tr>\n",
       "    <tr>\n",
       "      <th>std</th>\n",
       "      <td>0.385764</td>\n",
       "    </tr>\n",
       "    <tr>\n",
       "      <th>min</th>\n",
       "      <td>-0.983200</td>\n",
       "    </tr>\n",
       "    <tr>\n",
       "      <th>25%</th>\n",
       "      <td>0.000000</td>\n",
       "    </tr>\n",
       "    <tr>\n",
       "      <th>50%</th>\n",
       "      <td>0.000000</td>\n",
       "    </tr>\n",
       "    <tr>\n",
       "      <th>75%</th>\n",
       "      <td>0.476700</td>\n",
       "    </tr>\n",
       "    <tr>\n",
       "      <th>max</th>\n",
       "      <td>0.983000</td>\n",
       "    </tr>\n",
       "  </tbody>\n",
       "</table>\n",
       "</div>"
      ],
      "text/plain": [
       "          sentiment\n",
       "count  61624.000000\n",
       "mean       0.158525\n",
       "std        0.385764\n",
       "min       -0.983200\n",
       "25%        0.000000\n",
       "50%        0.000000\n",
       "75%        0.476700\n",
       "max        0.983000"
      ]
     },
     "execution_count": 47,
     "metadata": {},
     "output_type": "execute_result"
    }
   ],
   "source": [
    "# Describe data\n",
    "\n",
    "pdf1.describe()"
   ]
  },
  {
   "cell_type": "code",
   "execution_count": 71,
   "metadata": {},
   "outputs": [
    {
     "data": {
      "text/plain": [
       "topic\n",
       "ai                        17865\n",
       "automation_engineer           2\n",
       "business_intelligence         9\n",
       "cloud                      3049\n",
       "computer                   4384\n",
       "computer_programmer          10\n",
       "data                      24880\n",
       "data_analyst                 26\n",
       "data_architect                1\n",
       "data_processing              12\n",
       "data_scientist               48\n",
       "data_warehouse                9\n",
       "developer                  1569\n",
       "devops                      123\n",
       "etl                          50\n",
       "information_architect         1\n",
       "information_technology       23\n",
       "iot                         486\n",
       "java                        360\n",
       "machine_learning            499\n",
       "network_engineer              4\n",
       "programmer                  152\n",
       "security_analyst              3\n",
       "software_developer           26\n",
       "software_engineer            53\n",
       "solution_architect            1\n",
       "systems                    2427\n",
       "systems_engineer              6\n",
       "technology                 5546\n",
       "dtype: int64"
      ]
     },
     "execution_count": 71,
     "metadata": {},
     "output_type": "execute_result"
    }
   ],
   "source": [
    "topic_groups = pdf1.groupby('topic')\n",
    "topic_groups.size()"
   ]
  },
  {
   "cell_type": "code",
   "execution_count": 81,
   "metadata": {},
   "outputs": [],
   "source": [
    "sentiment_terms1 = ['ai', 'data', 'tecnology', 'cloud']"
   ]
  },
  {
   "cell_type": "code",
   "execution_count": 82,
   "metadata": {},
   "outputs": [
    {
     "data": {
      "text/html": [
       "<div>\n",
       "<style scoped>\n",
       "    .dataframe tbody tr th:only-of-type {\n",
       "        vertical-align: middle;\n",
       "    }\n",
       "\n",
       "    .dataframe tbody tr th {\n",
       "        vertical-align: top;\n",
       "    }\n",
       "\n",
       "    .dataframe thead th {\n",
       "        text-align: right;\n",
       "    }\n",
       "</style>\n",
       "<table border=\"1\" class=\"dataframe\">\n",
       "  <thead>\n",
       "    <tr style=\"text-align: right;\">\n",
       "      <th></th>\n",
       "      <th>topic</th>\n",
       "      <th>sentiment</th>\n",
       "    </tr>\n",
       "  </thead>\n",
       "  <tbody>\n",
       "    <tr>\n",
       "      <th>0</th>\n",
       "      <td>data</td>\n",
       "      <td>0.0000</td>\n",
       "    </tr>\n",
       "    <tr>\n",
       "      <th>2</th>\n",
       "      <td>data</td>\n",
       "      <td>0.0000</td>\n",
       "    </tr>\n",
       "    <tr>\n",
       "      <th>3</th>\n",
       "      <td>data</td>\n",
       "      <td>0.4767</td>\n",
       "    </tr>\n",
       "    <tr>\n",
       "      <th>4</th>\n",
       "      <td>data</td>\n",
       "      <td>0.0000</td>\n",
       "    </tr>\n",
       "    <tr>\n",
       "      <th>5</th>\n",
       "      <td>data</td>\n",
       "      <td>0.0000</td>\n",
       "    </tr>\n",
       "    <tr>\n",
       "      <th>7</th>\n",
       "      <td>data</td>\n",
       "      <td>0.4215</td>\n",
       "    </tr>\n",
       "    <tr>\n",
       "      <th>10</th>\n",
       "      <td>ai</td>\n",
       "      <td>0.0000</td>\n",
       "    </tr>\n",
       "    <tr>\n",
       "      <th>11</th>\n",
       "      <td>ai</td>\n",
       "      <td>0.0000</td>\n",
       "    </tr>\n",
       "    <tr>\n",
       "      <th>13</th>\n",
       "      <td>ai</td>\n",
       "      <td>0.0000</td>\n",
       "    </tr>\n",
       "    <tr>\n",
       "      <th>14</th>\n",
       "      <td>ai</td>\n",
       "      <td>-0.5267</td>\n",
       "    </tr>\n",
       "    <tr>\n",
       "      <th>15</th>\n",
       "      <td>data</td>\n",
       "      <td>0.0000</td>\n",
       "    </tr>\n",
       "    <tr>\n",
       "      <th>16</th>\n",
       "      <td>data</td>\n",
       "      <td>0.0000</td>\n",
       "    </tr>\n",
       "    <tr>\n",
       "      <th>17</th>\n",
       "      <td>data</td>\n",
       "      <td>0.0000</td>\n",
       "    </tr>\n",
       "    <tr>\n",
       "      <th>18</th>\n",
       "      <td>ai</td>\n",
       "      <td>-0.5267</td>\n",
       "    </tr>\n",
       "    <tr>\n",
       "      <th>19</th>\n",
       "      <td>data</td>\n",
       "      <td>0.0000</td>\n",
       "    </tr>\n",
       "    <tr>\n",
       "      <th>21</th>\n",
       "      <td>data</td>\n",
       "      <td>0.6486</td>\n",
       "    </tr>\n",
       "    <tr>\n",
       "      <th>22</th>\n",
       "      <td>ai</td>\n",
       "      <td>0.0000</td>\n",
       "    </tr>\n",
       "    <tr>\n",
       "      <th>23</th>\n",
       "      <td>ai</td>\n",
       "      <td>0.0000</td>\n",
       "    </tr>\n",
       "    <tr>\n",
       "      <th>24</th>\n",
       "      <td>ai</td>\n",
       "      <td>0.0000</td>\n",
       "    </tr>\n",
       "    <tr>\n",
       "      <th>26</th>\n",
       "      <td>data</td>\n",
       "      <td>0.6249</td>\n",
       "    </tr>\n",
       "    <tr>\n",
       "      <th>29</th>\n",
       "      <td>cloud</td>\n",
       "      <td>0.0000</td>\n",
       "    </tr>\n",
       "    <tr>\n",
       "      <th>31</th>\n",
       "      <td>cloud</td>\n",
       "      <td>-0.5267</td>\n",
       "    </tr>\n",
       "    <tr>\n",
       "      <th>33</th>\n",
       "      <td>data</td>\n",
       "      <td>0.6249</td>\n",
       "    </tr>\n",
       "    <tr>\n",
       "      <th>34</th>\n",
       "      <td>data</td>\n",
       "      <td>0.4767</td>\n",
       "    </tr>\n",
       "    <tr>\n",
       "      <th>35</th>\n",
       "      <td>ai</td>\n",
       "      <td>-0.3818</td>\n",
       "    </tr>\n",
       "    <tr>\n",
       "      <th>36</th>\n",
       "      <td>data</td>\n",
       "      <td>-0.8834</td>\n",
       "    </tr>\n",
       "    <tr>\n",
       "      <th>37</th>\n",
       "      <td>ai</td>\n",
       "      <td>0.0000</td>\n",
       "    </tr>\n",
       "    <tr>\n",
       "      <th>38</th>\n",
       "      <td>data</td>\n",
       "      <td>0.6249</td>\n",
       "    </tr>\n",
       "    <tr>\n",
       "      <th>39</th>\n",
       "      <td>data</td>\n",
       "      <td>0.4588</td>\n",
       "    </tr>\n",
       "    <tr>\n",
       "      <th>42</th>\n",
       "      <td>ai</td>\n",
       "      <td>0.0000</td>\n",
       "    </tr>\n",
       "    <tr>\n",
       "      <th>...</th>\n",
       "      <td>...</td>\n",
       "      <td>...</td>\n",
       "    </tr>\n",
       "    <tr>\n",
       "      <th>61579</th>\n",
       "      <td>ai</td>\n",
       "      <td>0.0000</td>\n",
       "    </tr>\n",
       "    <tr>\n",
       "      <th>61581</th>\n",
       "      <td>ai</td>\n",
       "      <td>0.0000</td>\n",
       "    </tr>\n",
       "    <tr>\n",
       "      <th>61583</th>\n",
       "      <td>data</td>\n",
       "      <td>0.0000</td>\n",
       "    </tr>\n",
       "    <tr>\n",
       "      <th>61584</th>\n",
       "      <td>data</td>\n",
       "      <td>0.6249</td>\n",
       "    </tr>\n",
       "    <tr>\n",
       "      <th>61586</th>\n",
       "      <td>ai</td>\n",
       "      <td>0.0000</td>\n",
       "    </tr>\n",
       "    <tr>\n",
       "      <th>61587</th>\n",
       "      <td>ai</td>\n",
       "      <td>0.1779</td>\n",
       "    </tr>\n",
       "    <tr>\n",
       "      <th>61588</th>\n",
       "      <td>data</td>\n",
       "      <td>0.4256</td>\n",
       "    </tr>\n",
       "    <tr>\n",
       "      <th>61589</th>\n",
       "      <td>cloud</td>\n",
       "      <td>0.8720</td>\n",
       "    </tr>\n",
       "    <tr>\n",
       "      <th>61591</th>\n",
       "      <td>data</td>\n",
       "      <td>0.4019</td>\n",
       "    </tr>\n",
       "    <tr>\n",
       "      <th>61592</th>\n",
       "      <td>data</td>\n",
       "      <td>0.3182</td>\n",
       "    </tr>\n",
       "    <tr>\n",
       "      <th>61593</th>\n",
       "      <td>ai</td>\n",
       "      <td>0.0000</td>\n",
       "    </tr>\n",
       "    <tr>\n",
       "      <th>61594</th>\n",
       "      <td>ai</td>\n",
       "      <td>0.0000</td>\n",
       "    </tr>\n",
       "    <tr>\n",
       "      <th>61596</th>\n",
       "      <td>data</td>\n",
       "      <td>0.2732</td>\n",
       "    </tr>\n",
       "    <tr>\n",
       "      <th>61597</th>\n",
       "      <td>ai</td>\n",
       "      <td>0.0000</td>\n",
       "    </tr>\n",
       "    <tr>\n",
       "      <th>61598</th>\n",
       "      <td>data</td>\n",
       "      <td>0.2732</td>\n",
       "    </tr>\n",
       "    <tr>\n",
       "      <th>61599</th>\n",
       "      <td>data</td>\n",
       "      <td>0.4767</td>\n",
       "    </tr>\n",
       "    <tr>\n",
       "      <th>61601</th>\n",
       "      <td>ai</td>\n",
       "      <td>0.0000</td>\n",
       "    </tr>\n",
       "    <tr>\n",
       "      <th>61602</th>\n",
       "      <td>ai</td>\n",
       "      <td>0.0000</td>\n",
       "    </tr>\n",
       "    <tr>\n",
       "      <th>61603</th>\n",
       "      <td>data</td>\n",
       "      <td>0.5106</td>\n",
       "    </tr>\n",
       "    <tr>\n",
       "      <th>61606</th>\n",
       "      <td>ai</td>\n",
       "      <td>0.0000</td>\n",
       "    </tr>\n",
       "    <tr>\n",
       "      <th>61608</th>\n",
       "      <td>ai</td>\n",
       "      <td>0.0000</td>\n",
       "    </tr>\n",
       "    <tr>\n",
       "      <th>61613</th>\n",
       "      <td>ai</td>\n",
       "      <td>0.0000</td>\n",
       "    </tr>\n",
       "    <tr>\n",
       "      <th>61614</th>\n",
       "      <td>ai</td>\n",
       "      <td>0.0000</td>\n",
       "    </tr>\n",
       "    <tr>\n",
       "      <th>61615</th>\n",
       "      <td>data</td>\n",
       "      <td>0.0000</td>\n",
       "    </tr>\n",
       "    <tr>\n",
       "      <th>61616</th>\n",
       "      <td>ai</td>\n",
       "      <td>-0.2960</td>\n",
       "    </tr>\n",
       "    <tr>\n",
       "      <th>61617</th>\n",
       "      <td>ai</td>\n",
       "      <td>0.0000</td>\n",
       "    </tr>\n",
       "    <tr>\n",
       "      <th>61620</th>\n",
       "      <td>ai</td>\n",
       "      <td>-0.3818</td>\n",
       "    </tr>\n",
       "    <tr>\n",
       "      <th>61621</th>\n",
       "      <td>data</td>\n",
       "      <td>0.0000</td>\n",
       "    </tr>\n",
       "    <tr>\n",
       "      <th>61622</th>\n",
       "      <td>data</td>\n",
       "      <td>0.6249</td>\n",
       "    </tr>\n",
       "    <tr>\n",
       "      <th>61623</th>\n",
       "      <td>ai</td>\n",
       "      <td>0.0000</td>\n",
       "    </tr>\n",
       "  </tbody>\n",
       "</table>\n",
       "<p>45794 rows × 2 columns</p>\n",
       "</div>"
      ],
      "text/plain": [
       "       topic  sentiment\n",
       "0       data     0.0000\n",
       "2       data     0.0000\n",
       "3       data     0.4767\n",
       "4       data     0.0000\n",
       "5       data     0.0000\n",
       "7       data     0.4215\n",
       "10        ai     0.0000\n",
       "11        ai     0.0000\n",
       "13        ai     0.0000\n",
       "14        ai    -0.5267\n",
       "15      data     0.0000\n",
       "16      data     0.0000\n",
       "17      data     0.0000\n",
       "18        ai    -0.5267\n",
       "19      data     0.0000\n",
       "21      data     0.6486\n",
       "22        ai     0.0000\n",
       "23        ai     0.0000\n",
       "24        ai     0.0000\n",
       "26      data     0.6249\n",
       "29     cloud     0.0000\n",
       "31     cloud    -0.5267\n",
       "33      data     0.6249\n",
       "34      data     0.4767\n",
       "35        ai    -0.3818\n",
       "36      data    -0.8834\n",
       "37        ai     0.0000\n",
       "38      data     0.6249\n",
       "39      data     0.4588\n",
       "42        ai     0.0000\n",
       "...      ...        ...\n",
       "61579     ai     0.0000\n",
       "61581     ai     0.0000\n",
       "61583   data     0.0000\n",
       "61584   data     0.6249\n",
       "61586     ai     0.0000\n",
       "61587     ai     0.1779\n",
       "61588   data     0.4256\n",
       "61589  cloud     0.8720\n",
       "61591   data     0.4019\n",
       "61592   data     0.3182\n",
       "61593     ai     0.0000\n",
       "61594     ai     0.0000\n",
       "61596   data     0.2732\n",
       "61597     ai     0.0000\n",
       "61598   data     0.2732\n",
       "61599   data     0.4767\n",
       "61601     ai     0.0000\n",
       "61602     ai     0.0000\n",
       "61603   data     0.5106\n",
       "61606     ai     0.0000\n",
       "61608     ai     0.0000\n",
       "61613     ai     0.0000\n",
       "61614     ai     0.0000\n",
       "61615   data     0.0000\n",
       "61616     ai    -0.2960\n",
       "61617     ai     0.0000\n",
       "61620     ai    -0.3818\n",
       "61621   data     0.0000\n",
       "61622   data     0.6249\n",
       "61623     ai     0.0000\n",
       "\n",
       "[45794 rows x 2 columns]"
      ]
     },
     "execution_count": 82,
     "metadata": {},
     "output_type": "execute_result"
    }
   ],
   "source": [
    "pdf2 = pdf1[pdf1.topic.isin(sentiment_terms1)]\n",
    "pdf2"
   ]
  },
  {
   "cell_type": "code",
   "execution_count": 86,
   "metadata": {},
   "outputs": [
    {
     "data": {
      "text/plain": [
       "<matplotlib.axes._subplots.AxesSubplot at 0x7f321bfeff50>"
      ]
     },
     "execution_count": 86,
     "metadata": {},
     "output_type": "execute_result"
    },
    {
     "data": {
      "image/png": "[encoded data removed]",
      "text/plain": [
       "<Figure size 432x288 with 1 Axes>"
      ]
     },
     "metadata": {},
     "output_type": "display_data"
    }
   ],
   "source": [
    "# Histograms\n",
    "\n",
    "pdf2['sentiment'].plot(kind='hist', bins=5)"
   ]
  },
  {
   "cell_type": "code",
   "execution_count": null,
   "metadata": {},
   "outputs": [
    {
     "name": "stdout",
     "output_type": "stream",
     "text": [
      "----------------------------------------\n",
      "Exception happened during processing of request from ('127.0.0.1', 58933)\n"
     ]
    },
    {
     "name": "stderr",
     "output_type": "stream",
     "text": [
      "Traceback (most recent call last):\n",
      "  File \"/home/vagrant/anaconda2/lib/python2.7/SocketServer.py\", line 290, in _handle_request_noblock\n",
      "    self.process_request(request, client_address)\n",
      "  File \"/home/vagrant/anaconda2/lib/python2.7/SocketServer.py\", line 318, in process_request\n",
      "    self.finish_request(request, client_address)\n",
      "  File \"/home/vagrant/anaconda2/lib/python2.7/SocketServer.py\", line 331, in finish_request\n",
      "    self.RequestHandlerClass(request, client_address, self)\n",
      "  File \"/home/vagrant/anaconda2/lib/python2.7/SocketServer.py\", line 652, in __init__\n",
      "    self.handle()\n",
      "  File \"/usr/hdp/2.6.5.0-292/spark2/python/pyspark/accumulators.py\", line 235, in handle\n",
      "    num_updates = read_int(self.rfile)\n",
      "  File \"/usr/hdp/2.6.5.0-292/spark2/python/pyspark/serializers.py\", line 685, in read_int\n",
      "    raise EOFError\n",
      "EOFError\n"
     ]
    },
    {
     "name": "stdout",
     "output_type": "stream",
     "text": [
      "----------------------------------------\n"
     ]
    },
    {
     "ename": "KeyboardInterrupt",
     "evalue": "",
     "output_type": "error",
     "traceback": [
      "\u001b[0;31m---------------------------------------------------------------------------\u001b[0m",
      "\u001b[0;31mKeyboardInterrupt\u001b[0m                         Traceback (most recent call last)",
      "\u001b[0;32m<ipython-input-87-8152e1937e4b>\u001b[0m in \u001b[0;36m<module>\u001b[0;34m()\u001b[0m\n\u001b[0;32m----> 1\u001b[0;31m \u001b[0mpdf2_plot\u001b[0m \u001b[0;34m=\u001b[0m \u001b[0mtopic_groups\u001b[0m\u001b[0;34m.\u001b[0m\u001b[0mplot\u001b[0m\u001b[0;34m(\u001b[0m\u001b[0mkind\u001b[0m\u001b[0;34m=\u001b[0m\u001b[0;34m'bar'\u001b[0m\u001b[0;34m)\u001b[0m\u001b[0;34m\u001b[0m\u001b[0m\n\u001b[0m",
      "\u001b[0;32m/home/vagrant/anaconda2/lib/python2.7/site-packages/pandas/core/groupby/groupby.pyc\u001b[0m in \u001b[0;36m__call__\u001b[0;34m(self, *args, **kwargs)\u001b[0m\n\u001b[1;32m    541\u001b[0m             \u001b[0;32mreturn\u001b[0m \u001b[0mself\u001b[0m\u001b[0;34m.\u001b[0m\u001b[0mplot\u001b[0m\u001b[0;34m(\u001b[0m\u001b[0;34m*\u001b[0m\u001b[0margs\u001b[0m\u001b[0;34m,\u001b[0m \u001b[0;34m**\u001b[0m\u001b[0mkwargs\u001b[0m\u001b[0;34m)\u001b[0m\u001b[0;34m\u001b[0m\u001b[0m\n\u001b[1;32m    542\u001b[0m         \u001b[0mf\u001b[0m\u001b[0;34m.\u001b[0m\u001b[0m__name__\u001b[0m \u001b[0;34m=\u001b[0m \u001b[0;34m'plot'\u001b[0m\u001b[0;34m\u001b[0m\u001b[0m\n\u001b[0;32m--> 543\u001b[0;31m         \u001b[0;32mreturn\u001b[0m \u001b[0mself\u001b[0m\u001b[0;34m.\u001b[0m\u001b[0m_groupby\u001b[0m\u001b[0;34m.\u001b[0m\u001b[0mapply\u001b[0m\u001b[0;34m(\u001b[0m\u001b[0mf\u001b[0m\u001b[0;34m)\u001b[0m\u001b[0;34m\u001b[0m\u001b[0m\n\u001b[0m\u001b[1;32m    544\u001b[0m \u001b[0;34m\u001b[0m\u001b[0m\n\u001b[1;32m    545\u001b[0m     \u001b[0;32mdef\u001b[0m \u001b[0m__getattr__\u001b[0m\u001b[0;34m(\u001b[0m\u001b[0mself\u001b[0m\u001b[0;34m,\u001b[0m \u001b[0mname\u001b[0m\u001b[0;34m)\u001b[0m\u001b[0;34m:\u001b[0m\u001b[0;34m\u001b[0m\u001b[0m\n",
      "\u001b[0;32m/home/vagrant/anaconda2/lib/python2.7/site-packages/pandas/core/groupby/groupby.pyc\u001b[0m in \u001b[0;36mapply\u001b[0;34m(self, func, *args, **kwargs)\u001b[0m\n\u001b[1;32m    916\u001b[0m         \u001b[0;32mwith\u001b[0m \u001b[0moption_context\u001b[0m\u001b[0;34m(\u001b[0m\u001b[0;34m'mode.chained_assignment'\u001b[0m\u001b[0;34m,\u001b[0m \u001b[0mNone\u001b[0m\u001b[0;34m)\u001b[0m\u001b[0;34m:\u001b[0m\u001b[0;34m\u001b[0m\u001b[0m\n\u001b[1;32m    917\u001b[0m             \u001b[0;32mtry\u001b[0m\u001b[0;34m:\u001b[0m\u001b[0;34m\u001b[0m\u001b[0m\n\u001b[0;32m--> 918\u001b[0;31m                 \u001b[0mresult\u001b[0m \u001b[0;34m=\u001b[0m \u001b[0mself\u001b[0m\u001b[0;34m.\u001b[0m\u001b[0m_python_apply_general\u001b[0m\u001b[0;34m(\u001b[0m\u001b[0mf\u001b[0m\u001b[0;34m)\u001b[0m\u001b[0;34m\u001b[0m\u001b[0m\n\u001b[0m\u001b[1;32m    919\u001b[0m             \u001b[0;32mexcept\u001b[0m \u001b[0mException\u001b[0m\u001b[0;34m:\u001b[0m\u001b[0;34m\u001b[0m\u001b[0m\n\u001b[1;32m    920\u001b[0m \u001b[0;34m\u001b[0m\u001b[0m\n",
      "\u001b[0;32m/home/vagrant/anaconda2/lib/python2.7/site-packages/pandas/core/groupby/groupby.pyc\u001b[0m in \u001b[0;36m_python_apply_general\u001b[0;34m(self, f)\u001b[0m\n\u001b[1;32m    934\u001b[0m     \u001b[0;32mdef\u001b[0m \u001b[0m_python_apply_general\u001b[0m\u001b[0;34m(\u001b[0m\u001b[0mself\u001b[0m\u001b[0;34m,\u001b[0m \u001b[0mf\u001b[0m\u001b[0;34m)\u001b[0m\u001b[0;34m:\u001b[0m\u001b[0;34m\u001b[0m\u001b[0m\n\u001b[1;32m    935\u001b[0m         keys, values, mutated = self.grouper.apply(f, self._selected_obj,\n\u001b[0;32m--> 936\u001b[0;31m                                                    self.axis)\n\u001b[0m\u001b[1;32m    937\u001b[0m \u001b[0;34m\u001b[0m\u001b[0m\n\u001b[1;32m    938\u001b[0m         return self._wrap_applied_output(\n",
      "\u001b[0;32m/home/vagrant/anaconda2/lib/python2.7/site-packages/pandas/core/groupby/groupby.pyc\u001b[0m in \u001b[0;36mapply\u001b[0;34m(self, f, data, axis)\u001b[0m\n\u001b[1;32m   2271\u001b[0m             \u001b[0;31m# group might be modified\u001b[0m\u001b[0;34m\u001b[0m\u001b[0;34m\u001b[0m\u001b[0m\n\u001b[1;32m   2272\u001b[0m             \u001b[0mgroup_axes\u001b[0m \u001b[0;34m=\u001b[0m \u001b[0m_get_axes\u001b[0m\u001b[0;34m(\u001b[0m\u001b[0mgroup\u001b[0m\u001b[0;34m)\u001b[0m\u001b[0;34m\u001b[0m\u001b[0m\n\u001b[0;32m-> 2273\u001b[0;31m             \u001b[0mres\u001b[0m \u001b[0;34m=\u001b[0m \u001b[0mf\u001b[0m\u001b[0;34m(\u001b[0m\u001b[0mgroup\u001b[0m\u001b[0;34m)\u001b[0m\u001b[0;34m\u001b[0m\u001b[0m\n\u001b[0m\u001b[1;32m   2274\u001b[0m             \u001b[0;32mif\u001b[0m \u001b[0;32mnot\u001b[0m \u001b[0m_is_indexed_like\u001b[0m\u001b[0;34m(\u001b[0m\u001b[0mres\u001b[0m\u001b[0;34m,\u001b[0m \u001b[0mgroup_axes\u001b[0m\u001b[0;34m)\u001b[0m\u001b[0;34m:\u001b[0m\u001b[0;34m\u001b[0m\u001b[0m\n\u001b[1;32m   2275\u001b[0m                 \u001b[0mmutated\u001b[0m \u001b[0;34m=\u001b[0m \u001b[0mTrue\u001b[0m\u001b[0;34m\u001b[0m\u001b[0m\n",
      "\u001b[0;32m/home/vagrant/anaconda2/lib/python2.7/site-packages/pandas/core/groupby/groupby.pyc\u001b[0m in \u001b[0;36mf\u001b[0;34m(self)\u001b[0m\n\u001b[1;32m    539\u001b[0m     \u001b[0;32mdef\u001b[0m \u001b[0m__call__\u001b[0m\u001b[0;34m(\u001b[0m\u001b[0mself\u001b[0m\u001b[0;34m,\u001b[0m \u001b[0;34m*\u001b[0m\u001b[0margs\u001b[0m\u001b[0;34m,\u001b[0m \u001b[0;34m**\u001b[0m\u001b[0mkwargs\u001b[0m\u001b[0;34m)\u001b[0m\u001b[0;34m:\u001b[0m\u001b[0;34m\u001b[0m\u001b[0m\n\u001b[1;32m    540\u001b[0m         \u001b[0;32mdef\u001b[0m \u001b[0mf\u001b[0m\u001b[0;34m(\u001b[0m\u001b[0mself\u001b[0m\u001b[0;34m)\u001b[0m\u001b[0;34m:\u001b[0m\u001b[0;34m\u001b[0m\u001b[0m\n\u001b[0;32m--> 541\u001b[0;31m             \u001b[0;32mreturn\u001b[0m \u001b[0mself\u001b[0m\u001b[0;34m.\u001b[0m\u001b[0mplot\u001b[0m\u001b[0;34m(\u001b[0m\u001b[0;34m*\u001b[0m\u001b[0margs\u001b[0m\u001b[0;34m,\u001b[0m \u001b[0;34m**\u001b[0m\u001b[0mkwargs\u001b[0m\u001b[0;34m)\u001b[0m\u001b[0;34m\u001b[0m\u001b[0m\n\u001b[0m\u001b[1;32m    542\u001b[0m         \u001b[0mf\u001b[0m\u001b[0;34m.\u001b[0m\u001b[0m__name__\u001b[0m \u001b[0;34m=\u001b[0m \u001b[0;34m'plot'\u001b[0m\u001b[0;34m\u001b[0m\u001b[0m\n\u001b[1;32m    543\u001b[0m         \u001b[0;32mreturn\u001b[0m \u001b[0mself\u001b[0m\u001b[0;34m.\u001b[0m\u001b[0m_groupby\u001b[0m\u001b[0;34m.\u001b[0m\u001b[0mapply\u001b[0m\u001b[0;34m(\u001b[0m\u001b[0mf\u001b[0m\u001b[0;34m)\u001b[0m\u001b[0;34m\u001b[0m\u001b[0m\n",
      "\u001b[0;32m/home/vagrant/anaconda2/lib/python2.7/site-packages/pandas/plotting/_core.pyc\u001b[0m in \u001b[0;36m__call__\u001b[0;34m(self, x, y, kind, ax, subplots, sharex, sharey, layout, figsize, use_index, title, grid, legend, style, logx, logy, loglog, xticks, yticks, xlim, ylim, rot, fontsize, colormap, table, yerr, xerr, secondary_y, sort_columns, **kwds)\u001b[0m\n\u001b[1;32m   2939\u001b[0m                           \u001b[0mfontsize\u001b[0m\u001b[0;34m=\u001b[0m\u001b[0mfontsize\u001b[0m\u001b[0;34m,\u001b[0m \u001b[0mcolormap\u001b[0m\u001b[0;34m=\u001b[0m\u001b[0mcolormap\u001b[0m\u001b[0;34m,\u001b[0m \u001b[0mtable\u001b[0m\u001b[0;34m=\u001b[0m\u001b[0mtable\u001b[0m\u001b[0;34m,\u001b[0m\u001b[0;34m\u001b[0m\u001b[0m\n\u001b[1;32m   2940\u001b[0m                           \u001b[0myerr\u001b[0m\u001b[0;34m=\u001b[0m\u001b[0myerr\u001b[0m\u001b[0;34m,\u001b[0m \u001b[0mxerr\u001b[0m\u001b[0;34m=\u001b[0m\u001b[0mxerr\u001b[0m\u001b[0;34m,\u001b[0m \u001b[0msecondary_y\u001b[0m\u001b[0;34m=\u001b[0m\u001b[0msecondary_y\u001b[0m\u001b[0;34m,\u001b[0m\u001b[0;34m\u001b[0m\u001b[0m\n\u001b[0;32m-> 2941\u001b[0;31m                           sort_columns=sort_columns, **kwds)\n\u001b[0m\u001b[1;32m   2942\u001b[0m     \u001b[0m__call__\u001b[0m\u001b[0;34m.\u001b[0m\u001b[0m__doc__\u001b[0m \u001b[0;34m=\u001b[0m \u001b[0mplot_frame\u001b[0m\u001b[0;34m.\u001b[0m\u001b[0m__doc__\u001b[0m\u001b[0;34m\u001b[0m\u001b[0m\n\u001b[1;32m   2943\u001b[0m \u001b[0;34m\u001b[0m\u001b[0m\n",
      "\u001b[0;32m/home/vagrant/anaconda2/lib/python2.7/site-packages/pandas/plotting/_core.pyc\u001b[0m in \u001b[0;36mplot_frame\u001b[0;34m(data, x, y, kind, ax, subplots, sharex, sharey, layout, figsize, use_index, title, grid, legend, style, logx, logy, loglog, xticks, yticks, xlim, ylim, rot, fontsize, colormap, table, yerr, xerr, secondary_y, sort_columns, **kwds)\u001b[0m\n\u001b[1;32m   1975\u001b[0m                  \u001b[0myerr\u001b[0m\u001b[0;34m=\u001b[0m\u001b[0myerr\u001b[0m\u001b[0;34m,\u001b[0m \u001b[0mxerr\u001b[0m\u001b[0;34m=\u001b[0m\u001b[0mxerr\u001b[0m\u001b[0;34m,\u001b[0m\u001b[0;34m\u001b[0m\u001b[0m\n\u001b[1;32m   1976\u001b[0m                  \u001b[0msecondary_y\u001b[0m\u001b[0;34m=\u001b[0m\u001b[0msecondary_y\u001b[0m\u001b[0;34m,\u001b[0m \u001b[0msort_columns\u001b[0m\u001b[0;34m=\u001b[0m\u001b[0msort_columns\u001b[0m\u001b[0;34m,\u001b[0m\u001b[0;34m\u001b[0m\u001b[0m\n\u001b[0;32m-> 1977\u001b[0;31m                  **kwds)\n\u001b[0m\u001b[1;32m   1978\u001b[0m \u001b[0;34m\u001b[0m\u001b[0m\n\u001b[1;32m   1979\u001b[0m \u001b[0;34m\u001b[0m\u001b[0m\n",
      "\u001b[0;32m/home/vagrant/anaconda2/lib/python2.7/site-packages/pandas/plotting/_core.pyc\u001b[0m in \u001b[0;36m_plot\u001b[0;34m(data, x, y, subplots, ax, kind, **kwds)\u001b[0m\n\u001b[1;32m   1802\u001b[0m         \u001b[0mplot_obj\u001b[0m \u001b[0;34m=\u001b[0m \u001b[0mklass\u001b[0m\u001b[0;34m(\u001b[0m\u001b[0mdata\u001b[0m\u001b[0;34m,\u001b[0m \u001b[0msubplots\u001b[0m\u001b[0;34m=\u001b[0m\u001b[0msubplots\u001b[0m\u001b[0;34m,\u001b[0m \u001b[0max\u001b[0m\u001b[0;34m=\u001b[0m\u001b[0max\u001b[0m\u001b[0;34m,\u001b[0m \u001b[0mkind\u001b[0m\u001b[0;34m=\u001b[0m\u001b[0mkind\u001b[0m\u001b[0;34m,\u001b[0m \u001b[0;34m**\u001b[0m\u001b[0mkwds\u001b[0m\u001b[0;34m)\u001b[0m\u001b[0;34m\u001b[0m\u001b[0m\n\u001b[1;32m   1803\u001b[0m \u001b[0;34m\u001b[0m\u001b[0m\n\u001b[0;32m-> 1804\u001b[0;31m     \u001b[0mplot_obj\u001b[0m\u001b[0;34m.\u001b[0m\u001b[0mgenerate\u001b[0m\u001b[0;34m(\u001b[0m\u001b[0;34m)\u001b[0m\u001b[0;34m\u001b[0m\u001b[0m\n\u001b[0m\u001b[1;32m   1805\u001b[0m     \u001b[0mplot_obj\u001b[0m\u001b[0;34m.\u001b[0m\u001b[0mdraw\u001b[0m\u001b[0;34m(\u001b[0m\u001b[0;34m)\u001b[0m\u001b[0;34m\u001b[0m\u001b[0m\n\u001b[1;32m   1806\u001b[0m     \u001b[0;32mreturn\u001b[0m \u001b[0mplot_obj\u001b[0m\u001b[0;34m.\u001b[0m\u001b[0mresult\u001b[0m\u001b[0;34m\u001b[0m\u001b[0m\n",
      "\u001b[0;32m/home/vagrant/anaconda2/lib/python2.7/site-packages/pandas/plotting/_core.pyc\u001b[0m in \u001b[0;36mgenerate\u001b[0;34m(self)\u001b[0m\n\u001b[1;32m    258\u001b[0m         \u001b[0mself\u001b[0m\u001b[0;34m.\u001b[0m\u001b[0m_compute_plot_data\u001b[0m\u001b[0;34m(\u001b[0m\u001b[0;34m)\u001b[0m\u001b[0;34m\u001b[0m\u001b[0m\n\u001b[1;32m    259\u001b[0m         \u001b[0mself\u001b[0m\u001b[0;34m.\u001b[0m\u001b[0m_setup_subplots\u001b[0m\u001b[0;34m(\u001b[0m\u001b[0;34m)\u001b[0m\u001b[0;34m\u001b[0m\u001b[0m\n\u001b[0;32m--> 260\u001b[0;31m         \u001b[0mself\u001b[0m\u001b[0;34m.\u001b[0m\u001b[0m_make_plot\u001b[0m\u001b[0;34m(\u001b[0m\u001b[0;34m)\u001b[0m\u001b[0;34m\u001b[0m\u001b[0m\n\u001b[0m\u001b[1;32m    261\u001b[0m         \u001b[0mself\u001b[0m\u001b[0;34m.\u001b[0m\u001b[0m_add_table\u001b[0m\u001b[0;34m(\u001b[0m\u001b[0;34m)\u001b[0m\u001b[0;34m\u001b[0m\u001b[0m\n\u001b[1;32m    262\u001b[0m         \u001b[0mself\u001b[0m\u001b[0;34m.\u001b[0m\u001b[0m_make_legend\u001b[0m\u001b[0;34m(\u001b[0m\u001b[0;34m)\u001b[0m\u001b[0;34m\u001b[0m\u001b[0m\n",
      "\u001b[0;32m/home/vagrant/anaconda2/lib/python2.7/site-packages/pandas/plotting/_core.pyc\u001b[0m in \u001b[0;36m_make_plot\u001b[0;34m(self)\u001b[0m\n\u001b[1;32m   1263\u001b[0m                 rect = self._plot(ax, self.ax_pos + (i + 0.5) * w, y, w,\n\u001b[1;32m   1264\u001b[0m                                   \u001b[0mstart\u001b[0m\u001b[0;34m=\u001b[0m\u001b[0mstart\u001b[0m\u001b[0;34m,\u001b[0m \u001b[0mlabel\u001b[0m\u001b[0;34m=\u001b[0m\u001b[0mlabel\u001b[0m\u001b[0;34m,\u001b[0m\u001b[0;34m\u001b[0m\u001b[0m\n\u001b[0;32m-> 1265\u001b[0;31m                                   log=self.log, **kwds)\n\u001b[0m\u001b[1;32m   1266\u001b[0m             \u001b[0mself\u001b[0m\u001b[0;34m.\u001b[0m\u001b[0m_add_legend_handle\u001b[0m\u001b[0;34m(\u001b[0m\u001b[0mrect\u001b[0m\u001b[0;34m,\u001b[0m \u001b[0mlabel\u001b[0m\u001b[0;34m,\u001b[0m \u001b[0mindex\u001b[0m\u001b[0;34m=\u001b[0m\u001b[0mi\u001b[0m\u001b[0;34m)\u001b[0m\u001b[0;34m\u001b[0m\u001b[0m\n\u001b[1;32m   1267\u001b[0m \u001b[0;34m\u001b[0m\u001b[0m\n",
      "\u001b[0;32m/home/vagrant/anaconda2/lib/python2.7/site-packages/pandas/plotting/_core.pyc\u001b[0m in \u001b[0;36m_plot\u001b[0;34m(cls, ax, x, y, w, start, log, **kwds)\u001b[0m\n\u001b[1;32m   1207\u001b[0m     \u001b[0;34m@\u001b[0m\u001b[0mclassmethod\u001b[0m\u001b[0;34m\u001b[0m\u001b[0m\n\u001b[1;32m   1208\u001b[0m     \u001b[0;32mdef\u001b[0m \u001b[0m_plot\u001b[0m\u001b[0;34m(\u001b[0m\u001b[0mcls\u001b[0m\u001b[0;34m,\u001b[0m \u001b[0max\u001b[0m\u001b[0;34m,\u001b[0m \u001b[0mx\u001b[0m\u001b[0;34m,\u001b[0m \u001b[0my\u001b[0m\u001b[0;34m,\u001b[0m \u001b[0mw\u001b[0m\u001b[0;34m,\u001b[0m \u001b[0mstart\u001b[0m\u001b[0;34m=\u001b[0m\u001b[0;36m0\u001b[0m\u001b[0;34m,\u001b[0m \u001b[0mlog\u001b[0m\u001b[0;34m=\u001b[0m\u001b[0mFalse\u001b[0m\u001b[0;34m,\u001b[0m \u001b[0;34m**\u001b[0m\u001b[0mkwds\u001b[0m\u001b[0;34m)\u001b[0m\u001b[0;34m:\u001b[0m\u001b[0;34m\u001b[0m\u001b[0m\n\u001b[0;32m-> 1209\u001b[0;31m         \u001b[0;32mreturn\u001b[0m \u001b[0max\u001b[0m\u001b[0;34m.\u001b[0m\u001b[0mbar\u001b[0m\u001b[0;34m(\u001b[0m\u001b[0mx\u001b[0m\u001b[0;34m,\u001b[0m \u001b[0my\u001b[0m\u001b[0;34m,\u001b[0m \u001b[0mw\u001b[0m\u001b[0;34m,\u001b[0m \u001b[0mbottom\u001b[0m\u001b[0;34m=\u001b[0m\u001b[0mstart\u001b[0m\u001b[0;34m,\u001b[0m \u001b[0mlog\u001b[0m\u001b[0;34m=\u001b[0m\u001b[0mlog\u001b[0m\u001b[0;34m,\u001b[0m \u001b[0;34m**\u001b[0m\u001b[0mkwds\u001b[0m\u001b[0;34m)\u001b[0m\u001b[0;34m\u001b[0m\u001b[0m\n\u001b[0m\u001b[1;32m   1210\u001b[0m \u001b[0;34m\u001b[0m\u001b[0m\n\u001b[1;32m   1211\u001b[0m     \u001b[0;34m@\u001b[0m\u001b[0mproperty\u001b[0m\u001b[0;34m\u001b[0m\u001b[0m\n",
      "\u001b[0;32m/home/vagrant/anaconda2/lib/python2.7/site-packages/matplotlib/__init__.pyc\u001b[0m in \u001b[0;36minner\u001b[0;34m(ax, *args, **kwargs)\u001b[0m\n\u001b[1;32m   1853\u001b[0m                         \u001b[0;34m\"the Matplotlib list!)\"\u001b[0m \u001b[0;34m%\u001b[0m \u001b[0;34m(\u001b[0m\u001b[0mlabel_namer\u001b[0m\u001b[0;34m,\u001b[0m \u001b[0mfunc\u001b[0m\u001b[0;34m.\u001b[0m\u001b[0m__name__\u001b[0m\u001b[0;34m)\u001b[0m\u001b[0;34m,\u001b[0m\u001b[0;34m\u001b[0m\u001b[0m\n\u001b[1;32m   1854\u001b[0m                         RuntimeWarning, stacklevel=2)\n\u001b[0;32m-> 1855\u001b[0;31m             \u001b[0;32mreturn\u001b[0m \u001b[0mfunc\u001b[0m\u001b[0;34m(\u001b[0m\u001b[0max\u001b[0m\u001b[0;34m,\u001b[0m \u001b[0;34m*\u001b[0m\u001b[0margs\u001b[0m\u001b[0;34m,\u001b[0m \u001b[0;34m**\u001b[0m\u001b[0mkwargs\u001b[0m\u001b[0;34m)\u001b[0m\u001b[0;34m\u001b[0m\u001b[0m\n\u001b[0m\u001b[1;32m   1856\u001b[0m \u001b[0;34m\u001b[0m\u001b[0m\n\u001b[1;32m   1857\u001b[0m         inner.__doc__ = _add_data_doc(inner.__doc__,\n",
      "\u001b[0;32m/home/vagrant/anaconda2/lib/python2.7/site-packages/matplotlib/axes/_axes.pyc\u001b[0m in \u001b[0;36mbar\u001b[0;34m(self, *args, **kwargs)\u001b[0m\n\u001b[1;32m   2284\u001b[0m             \u001b[0;32melif\u001b[0m \u001b[0morientation\u001b[0m \u001b[0;34m==\u001b[0m \u001b[0;34m'horizontal'\u001b[0m\u001b[0;34m:\u001b[0m\u001b[0;34m\u001b[0m\u001b[0m\n\u001b[1;32m   2285\u001b[0m                 \u001b[0mr\u001b[0m\u001b[0;34m.\u001b[0m\u001b[0msticky_edges\u001b[0m\u001b[0;34m.\u001b[0m\u001b[0mx\u001b[0m\u001b[0;34m.\u001b[0m\u001b[0mappend\u001b[0m\u001b[0;34m(\u001b[0m\u001b[0ml\u001b[0m\u001b[0;34m)\u001b[0m\u001b[0;34m\u001b[0m\u001b[0m\n\u001b[0;32m-> 2286\u001b[0;31m             \u001b[0mself\u001b[0m\u001b[0;34m.\u001b[0m\u001b[0madd_patch\u001b[0m\u001b[0;34m(\u001b[0m\u001b[0mr\u001b[0m\u001b[0;34m)\u001b[0m\u001b[0;34m\u001b[0m\u001b[0m\n\u001b[0m\u001b[1;32m   2287\u001b[0m             \u001b[0mpatches\u001b[0m\u001b[0;34m.\u001b[0m\u001b[0mappend\u001b[0m\u001b[0;34m(\u001b[0m\u001b[0mr\u001b[0m\u001b[0;34m)\u001b[0m\u001b[0;34m\u001b[0m\u001b[0m\n\u001b[1;32m   2288\u001b[0m \u001b[0;34m\u001b[0m\u001b[0m\n",
      "\u001b[0;32m/home/vagrant/anaconda2/lib/python2.7/site-packages/matplotlib/axes/_base.pyc\u001b[0m in \u001b[0;36madd_patch\u001b[0;34m(self, p)\u001b[0m\n\u001b[1;32m   2005\u001b[0m         \u001b[0;32mif\u001b[0m \u001b[0mp\u001b[0m\u001b[0;34m.\u001b[0m\u001b[0mget_clip_path\u001b[0m\u001b[0;34m(\u001b[0m\u001b[0;34m)\u001b[0m \u001b[0;32mis\u001b[0m \u001b[0mNone\u001b[0m\u001b[0;34m:\u001b[0m\u001b[0;34m\u001b[0m\u001b[0m\n\u001b[1;32m   2006\u001b[0m             \u001b[0mp\u001b[0m\u001b[0;34m.\u001b[0m\u001b[0mset_clip_path\u001b[0m\u001b[0;34m(\u001b[0m\u001b[0mself\u001b[0m\u001b[0;34m.\u001b[0m\u001b[0mpatch\u001b[0m\u001b[0;34m)\u001b[0m\u001b[0;34m\u001b[0m\u001b[0m\n\u001b[0;32m-> 2007\u001b[0;31m         \u001b[0mself\u001b[0m\u001b[0;34m.\u001b[0m\u001b[0m_update_patch_limits\u001b[0m\u001b[0;34m(\u001b[0m\u001b[0mp\u001b[0m\u001b[0;34m)\u001b[0m\u001b[0;34m\u001b[0m\u001b[0m\n\u001b[0m\u001b[1;32m   2008\u001b[0m         \u001b[0mself\u001b[0m\u001b[0;34m.\u001b[0m\u001b[0mpatches\u001b[0m\u001b[0;34m.\u001b[0m\u001b[0mappend\u001b[0m\u001b[0;34m(\u001b[0m\u001b[0mp\u001b[0m\u001b[0;34m)\u001b[0m\u001b[0;34m\u001b[0m\u001b[0m\n\u001b[1;32m   2009\u001b[0m         \u001b[0mp\u001b[0m\u001b[0;34m.\u001b[0m\u001b[0m_remove_method\u001b[0m \u001b[0;34m=\u001b[0m \u001b[0;32mlambda\u001b[0m \u001b[0mh\u001b[0m\u001b[0;34m:\u001b[0m \u001b[0mself\u001b[0m\u001b[0;34m.\u001b[0m\u001b[0mpatches\u001b[0m\u001b[0;34m.\u001b[0m\u001b[0mremove\u001b[0m\u001b[0;34m(\u001b[0m\u001b[0mh\u001b[0m\u001b[0;34m)\u001b[0m\u001b[0;34m\u001b[0m\u001b[0m\n",
      "\u001b[0;32m/home/vagrant/anaconda2/lib/python2.7/site-packages/matplotlib/axes/_base.pyc\u001b[0m in \u001b[0;36m_update_patch_limits\u001b[0;34m(self, patch)\u001b[0m\n\u001b[1;32m   2032\u001b[0m \u001b[0;34m\u001b[0m\u001b[0m\n\u001b[1;32m   2033\u001b[0m             \u001b[0mupdatex\u001b[0m\u001b[0;34m,\u001b[0m \u001b[0mupdatey\u001b[0m \u001b[0;34m=\u001b[0m \u001b[0mpatch\u001b[0m\u001b[0;34m.\u001b[0m\u001b[0mget_transform\u001b[0m\u001b[0;34m(\u001b[0m\u001b[0;34m)\u001b[0m\u001b[0;34m.\u001b[0m\u001b[0;31m\\\u001b[0m\u001b[0;34m\u001b[0m\u001b[0m\n\u001b[0;32m-> 2034\u001b[0;31m                 \u001b[0mcontains_branch_seperately\u001b[0m\u001b[0;34m(\u001b[0m\u001b[0mself\u001b[0m\u001b[0;34m.\u001b[0m\u001b[0mtransData\u001b[0m\u001b[0;34m)\u001b[0m\u001b[0;34m\u001b[0m\u001b[0m\n\u001b[0m\u001b[1;32m   2035\u001b[0m             self.update_datalim(xys, updatex=updatex,\n\u001b[1;32m   2036\u001b[0m                                 updatey=updatey)\n",
      "\u001b[0;32m/home/vagrant/anaconda2/lib/python2.7/site-packages/matplotlib/transforms.pyc\u001b[0m in \u001b[0;36mcontains_branch_seperately\u001b[0;34m(self, other_transform)\u001b[0m\n\u001b[1;32m   1374\u001b[0m         \u001b[0;31m# for a non-blended transform each separate dimension is the same, so\u001b[0m\u001b[0;34m\u001b[0m\u001b[0;34m\u001b[0m\u001b[0m\n\u001b[1;32m   1375\u001b[0m         \u001b[0;31m# just return the appropriate shape.\u001b[0m\u001b[0;34m\u001b[0m\u001b[0;34m\u001b[0m\u001b[0m\n\u001b[0;32m-> 1376\u001b[0;31m         \u001b[0;32mreturn\u001b[0m \u001b[0;34m[\u001b[0m\u001b[0mself\u001b[0m\u001b[0;34m.\u001b[0m\u001b[0mcontains_branch\u001b[0m\u001b[0;34m(\u001b[0m\u001b[0mother_transform\u001b[0m\u001b[0;34m)\u001b[0m\u001b[0;34m]\u001b[0m \u001b[0;34m*\u001b[0m \u001b[0;36m2\u001b[0m\u001b[0;34m\u001b[0m\u001b[0m\n\u001b[0m\u001b[1;32m   1377\u001b[0m \u001b[0;34m\u001b[0m\u001b[0m\n\u001b[1;32m   1378\u001b[0m     \u001b[0;32mdef\u001b[0m \u001b[0m__sub__\u001b[0m\u001b[0;34m(\u001b[0m\u001b[0mself\u001b[0m\u001b[0;34m,\u001b[0m \u001b[0mother\u001b[0m\u001b[0;34m)\u001b[0m\u001b[0;34m:\u001b[0m\u001b[0;34m\u001b[0m\u001b[0m\n",
      "\u001b[0;31mKeyboardInterrupt\u001b[0m: "
     ]
    }
   ],
   "source": [
    "pdf2_plot = topic_groups.plot(kind='bar')"
   ]
  },
  {
   "cell_type": "code",
   "execution_count": 84,
   "metadata": {},
   "outputs": [
    {
     "data": {
      "text/plain": [
       "<matplotlib.axes._subplots.AxesSubplot at 0x7f321cc23350>"
      ]
     },
     "execution_count": 84,
     "metadata": {},
     "output_type": "execute_result"
    },
    {
     "data": {
      "image/png": "[encoded data removed]",
      "text/plain": [
       "<Figure size 432x288 with 1 Axes>"
      ]
     },
     "metadata": {},
     "output_type": "display_data"
    }
   ],
   "source": [
    "# Boxplot sentiments by topic\n",
    "\n",
    "pdf2.boxplot(by='topic', column=['sentiment'], grid=False)"
   ]
  },
  {
   "cell_type": "code",
   "execution_count": null,
   "metadata": {},
   "outputs": [],
   "source": []
  }
 ],
 "metadata": {
  "kernelspec": {
   "display_name": "Python 2",
   "language": "python",
   "name": "python2"
  },
  "language_info": {
   "codemirror_mode": {
    "name": "ipython",
    "version": 2
   },
   "file_extension": ".py",
   "mimetype": "text/x-python",
   "name": "python",
   "nbconvert_exporter": "python",
   "pygments_lexer": "ipython2",
   "version": "2.7.15"
  }
 },
 "nbformat": 4,
 "nbformat_minor": 2
}
